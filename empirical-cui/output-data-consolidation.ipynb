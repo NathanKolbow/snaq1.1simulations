{
 "cells": [
  {
   "cell_type": "code",
   "execution_count": 1,
   "metadata": {},
   "outputs": [
    {
     "data": {
      "text/html": [
       "<div><div style = \"float: left;\"><span>0×5 DataFrame</span></div><div style = \"clear: both;\"></div></div><div class = \"data-frame\" style = \"overflow-x: scroll;\"><table class = \"data-frame\" style = \"margin-bottom: 6px;\"><thead><tr class = \"header\"><th class = \"rowNumber\" style = \"font-weight: bold; text-align: right;\">Row</th><th style = \"text-align: left;\">whichSNaQ</th><th style = \"text-align: left;\">runtime</th><th style = \"text-align: left;\">nhybrids</th><th style = \"text-align: left;\">best_network</th><th style = \"text-align: left;\">negloglik</th></tr><tr class = \"subheader headerLastRow\"><th class = \"rowNumber\" style = \"font-weight: bold; text-align: right;\"></th><th title = \"Int64\" style = \"text-align: left;\">Int64</th><th title = \"Float64\" style = \"text-align: left;\">Float64</th><th title = \"Int64\" style = \"text-align: left;\">Int64</th><th title = \"String\" style = \"text-align: left;\">String</th><th title = \"Float64\" style = \"text-align: left;\">Float64</th></tr></thead><tbody></tbody></table></div>"
      ],
      "text/latex": [
       "\\begin{tabular}{r|ccccc}\n",
       "\t& whichSNaQ & runtime & nhybrids & best\\_network & negloglik\\\\\n",
       "\t\\hline\n",
       "\t& Int64 & Float64 & Int64 & String & Float64\\\\\n",
       "\t\\hline\n",
       "\\end{tabular}\n"
      ],
      "text/plain": [
       "\u001b[1m0×5 DataFrame\n",
       "\u001b[1m Row │\u001b[1m whichSNaQ \u001b[1m runtime \u001b[1m nhybrids \u001b[1m best_network \u001b[1m negloglik\n",
       "     │\u001b[90m Int64     \u001b[90m Float64 \u001b[90m Int64    \u001b[90m String       \u001b[90m Float64\n",
       "─────┴───────────────────────────────────────────────────────"
      ]
     },
     "metadata": {},
     "output_type": "display_data"
    }
   ],
   "source": [
    "using DataFrames, CSV\n",
    "df = DataFrame(whichSNaQ=Int64[], runtime=Float64[], nhybrids=Int64[], best_network=String[], negloglik=Float64[])"
   ]
  },
  {
   "cell_type": "markdown",
   "metadata": {},
   "source": [
    "## SNaQ 2 data"
   ]
  },
  {
   "cell_type": "code",
   "execution_count": 2,
   "metadata": {},
   "outputs": [],
   "source": [
    "snaq2_dir = \"/mnt/dv/wid/projects4/SolisLemus-snaq2/empirical-cui/condor/snaq_outputs/\"\n",
    "\n",
    "for nhyb in 0:5\n",
    "    file_prefix = joinpath(snaq2_dir, \"cui_net_$(nhyb)hyb\")\n",
    "    if !isfile(\"$(file_prefix).out\") continue end\n",
    "    \n",
    "    best_net_data = readlines(\"$(file_prefix).log\")\n",
    "    \n",
    "    best_net = split(best_net_data[length(best_net_data)-1], \"MaxNet is \")[2]\n",
    "\n",
    "    best_negloglik = split(best_net_data[length(best_net_data)], \"with -loglik \")[2]\n",
    "    best_negloglik = parse(Float64, best_negloglik)\n",
    "\n",
    "    runtime = parse(Float64, readlines(joinpath(snaq2_dir, \"$(file_prefix).runtime\"))[1])\n",
    "    push!(df, [2, runtime, nhyb, best_net, best_negloglik])\n",
    "end\n"
   ]
  },
  {
   "cell_type": "code",
   "execution_count": 3,
   "metadata": {},
   "outputs": [
    {
     "data": {
      "text/html": [
       "<div><div style = \"float: left;\"><span>6×5 DataFrame</span></div><div style = \"clear: both;\"></div></div><div class = \"data-frame\" style = \"overflow-x: scroll;\"><table class = \"data-frame\" style = \"margin-bottom: 6px;\"><thead><tr class = \"header\"><th class = \"rowNumber\" style = \"font-weight: bold; text-align: right;\">Row</th><th style = \"text-align: left;\">whichSNaQ</th><th style = \"text-align: left;\">runtime</th><th style = \"text-align: left;\">nhybrids</th><th style = \"text-align: left;\">best_network</th><th style = \"text-align: left;\">negloglik</th></tr><tr class = \"subheader headerLastRow\"><th class = \"rowNumber\" style = \"font-weight: bold; text-align: right;\"></th><th title = \"Int64\" style = \"text-align: left;\">Int64</th><th title = \"Float64\" style = \"text-align: left;\">Float64</th><th title = \"Int64\" style = \"text-align: left;\">Int64</th><th title = \"String\" style = \"text-align: left;\">String</th><th title = \"Float64\" style = \"text-align: left;\">Float64</th></tr></thead><tbody><tr><td class = \"rowNumber\" style = \"font-weight: bold; text-align: right;\">1</td><td style = \"text-align: right;\">2</td><td style = \"text-align: right;\">28878.5</td><td style = \"text-align: right;\">0</td><td style = \"text-align: left;\">(Xbirchmanni_GARC,Xmalinche_CHIC2,(Xcortezi,(Xmontezumae,((((((Xalvarezi,Xmayae):0.33573261546776034,Xhellerii):0.2570428685455809,Xsignum):1.8684829981806892,(Xclemenciae_F2,Xmonticolus):1.4568562811775525):0.9894123051197872,((((((((Xgordoni,Xmeyeri):0.260941650500119,Xcouchianus):3.5263530419946125,Xvariatus):0.6441174121326382,Xevelynae):0.4623785424025624,Xmilleri):0.2206839165610763,Xxiphidium):0.34187169818975405,Xandersi):0.4130797975090862,Xmaculatus):0.562819643879695):2.2238926599946973,((Xcontinens,Xpygmaeus):1.968647426989417,(Xnigrensis,Xmultilineatus):1.4508222016470356):2.427787188281627):0.4925677072017978):0.690280843537655):0.8942572881883746); </td><td style = \"text-align: right;\">12306.3</td></tr><tr><td class = \"rowNumber\" style = \"font-weight: bold; text-align: right;\">2</td><td style = \"text-align: right;\">2</td><td style = \"text-align: right;\">59233.5</td><td style = \"text-align: right;\">1</td><td style = \"text-align: left;\">(Xalvarezi,Xmayae,(Xhellerii,(Xsignum,((Xclemenciae_F2,Xmonticolus):1.455322656168836,(((((((((Xgordoni,Xmeyeri):0.2610026897629548,Xcouchianus):3.531493889011526,Xvariatus):0.644534784375658,Xevelynae):0.41219787411358233,(Xxiphidium,#H24:0.0::0.16538233670655728):1.4020273950442304):0.29212528628225487,Xmilleri):0.4688643862801541,Xandersi):0.6492570259172087,Xmaculatus):1.0200602335138427,(((Xmontezumae,(Xcortezi,(Xbirchmanni_GARC,Xmalinche_CHIC2):0.8942911134439004):0.690375933272812):0.4926228956226752,((Xnigrensis,Xmultilineatus):1.4508225039152296,(Xpygmaeus,Xcontinens):1.9686774043375257):2.428060196425017):2.0434444934052576)#H24:0.6478008024324021::0.8346176632934428):0.7898257175666403):1.8657998487106953):0.25701125505807526):0.33572600309280426); </td><td style = \"text-align: right;\">8087.16</td></tr><tr><td class = \"rowNumber\" style = \"font-weight: bold; text-align: right;\">3</td><td style = \"text-align: right;\">2</td><td style = \"text-align: right;\">57009.0</td><td style = \"text-align: right;\">2</td><td style = \"text-align: left;\">(Xalvarezi,Xmayae,((Xsignum,((((((((((Xgordoni,Xmeyeri):0.25757271724098973,Xcouchianus):3.532988564977703,Xvariatus):0.6446874258517096,Xevelynae):0.41246317079421246,(Xxiphidium,#H24:5.033042683966118e-5::0.1653507310929094):1.398925043206115):0.2918978446396917,Xmilleri):0.46937386703955525,Xandersi):0.648566637613014,Xmaculatus):1.0205076379294598,(((Xmontezumae,(Xcortezi,(Xbirchmanni_GARC,Xmalinche_CHIC2):0.8933630420154336):0.6905025860207384):0.4927411378289649,((Xpygmaeus,Xcontinens):1.9664507275033072,(Xnigrensis,Xmultilineatus):1.4508567283913851):2.4270831402806183):2.043390027949852)#H24:0.6480499371048025::0.8346492689070906):0.7855919377529405,(#H25:::0.050786281612018494,(Xmonticolus,Xclemenciae_F2):1.0138684239242646):0.4487819754223839):2.0236780910471106):0.3500485536689108,(Xhellerii)#H25:::0.9492137183879815):0.25396465312557864); </td><td style = \"text-align: right;\">8010.05</td></tr><tr><td class = \"rowNumber\" style = \"font-weight: bold; text-align: right;\">4</td><td style = \"text-align: right;\">2</td><td style = \"text-align: right;\">11385.9</td><td style = \"text-align: right;\">3</td><td style = \"text-align: left;\">((Xmayae,(Xsignum,#H25:1.5110480531329233::0.4327950246782939):4.04058166057681):0.29097932418472794,(Xhellerii,((((((Xmilleri,((Xxiphidium,#H24:0.0025733981072351224::0.1653578762288908):1.4105052944020438,((((Xgordoni,Xmeyeri):0.2670867288636092,Xcouchianus):3.5136450622639113,Xvariatus):0.6447932507803675,Xevelynae):0.4127047464709273):0.29169621821694164):0.4689913906836836,Xandersi):0.6508723073329289,Xmaculatus):1.0204452453357777,((((Xmontezumae,(Xcortezi,((Xmalinche_CHIC2,Xbirchmanni_GARC):1.0856348061486425)#H26:0.0::0.8723944119423989):1.2642136964649866):0.6291264913973904,((Xnigrensis,Xmultilineatus):1.451720793459369,(Xpygmaeus,Xcontinens):1.9559255320014535):2.373363334840846):1.1256981032693505,#H26:8.409270739061494::0.1276055880576011):1.0752369723711777)#H24:0.6351120238201327::0.8346421237711092):0.7893778931636327,(Xclemenciae_F2,Xmonticolus):1.456643524686765):1.7670793573232058)#H25:1.0595886525893456::0.5672049753217061):0.6877953118502366,Xalvarezi); </td><td style = \"text-align: right;\">7045.49</td></tr><tr><td class = \"rowNumber\" style = \"font-weight: bold; text-align: right;\">5</td><td style = \"text-align: right;\">2</td><td style = \"text-align: right;\">15946.9</td><td style = \"text-align: right;\">4</td><td style = \"text-align: left;\">(Xmayae,(Xsignum,#H25:5.082734418311206::0.4297665177229852):5.389522596050399,(Xalvarezi,(Xhellerii,((((((((((Xcouchianus,(Xgordoni,Xmeyeri):0.26982703129359165):3.528156599650305,Xvariatus):0.6451972575923878,Xevelynae):0.4132554616556287,(Xxiphidium,#H24:5.053262181453364e-7::0.16724263361511957):1.3645966998080217):0.2928115249732738,Xmilleri):0.4695819018570044,Xandersi):0.652404878269161,Xmaculatus):1.0226807289762099,((((Xmontezumae,(Xcortezi,((Xmalinche_CHIC2,Xbirchmanni_GARC):1.0838178327980086)#H26:0.0::0.8693055723450269):1.2846241894511057):0.6309005880443043,(((Xcontinens,Xpygmaeus):1.912865527596485,(Xmultilineatus,(Xnigrensis)#H27:::0.9447822653040753):2.138908465488343):2.227566241667269,#H27:::0.05521773469592468):0.40528350596573853):1.0944028754090103,#H26:8.783891184553742::0.13069442765497302):1.2813319307841795)#H24:0.25525058507880977::0.8327573663848804):0.7886700270252991,(Xclemenciae_F2,Xmonticolus):1.4612756743529391):1.8576821615306418)#H25:0.29612853982581955::0.5702334822770148):0.6686833710721246):0.2691192410484597); </td><td style = \"text-align: right;\">6910.6</td></tr><tr><td class = \"rowNumber\" style = \"font-weight: bold; text-align: right;\">6</td><td style = \"text-align: right;\">2</td><td style = \"text-align: right;\">21882.7</td><td style = \"text-align: right;\">5</td><td style = \"text-align: left;\">(Xmayae,((Xhellerii,((((((((((((Xgordoni,Xmeyeri):0.2631227031446862,Xcouchianus):3.54021612159992,Xvariatus):0.6437316675570034,Xevelynae):0.4114043093284645,(Xxiphidium,#H24:7.809109621543954e-7::0.1649517615020249):1.4165913479654098):0.2921964918454891,Xmilleri):0.4691622169119663,Xandersi):0.6488320449041185,Xmaculatus):1.018515784980067,((((Xmontezumae,(Xcortezi,((Xmalinche_CHIC2,Xbirchmanni_GARC):1.0849726998175)#H26:0.0010908140230310095::0.8685945336508559):1.2792390904173159):0.6320193209227563,((Xnigrensis,(Xmultilineatus)#H27:::0.8933645769387583):2.1536576339054445,(#H27:::0.10663542306124178,(Xcontinens,Xpygmaeus):1.2578127470041887):0.7723312910403919):2.3389927104259014):1.074742972912891,#H26:8.295425154703283::0.1314054663491441):1.1091321001809857)#H24:0.6580752321658498::0.8350482384979752):0.7606154109054719,(Xmonticolus,(Xclemenciae_F2)#H28:::0.8872061505132185):2.178805456475259):0.6531834063316464,#H28:::0.11279384948678145):1.1802247941509667)#H25:0.6615510973730296::0.5706273914381044):0.6810352768760031,Xalvarezi):0.26007612581046646,(Xsignum,#H25:9.581758012036618::0.4293726085618957):5.979160617223211); </td><td style = \"text-align: right;\">6920.93</td></tr></tbody></table></div>"
      ],
      "text/latex": [
       "\\begin{tabular}{r|ccccc}\n",
       "\t& whichSNaQ & runtime & nhybrids & best\\_network & \\\\\n",
       "\t\\hline\n",
       "\t& Int64 & Float64 & Int64 & String & \\\\\n",
       "\t\\hline\n",
       "\t1 & 2 & 28878.5 & 0 & (Xbirchmanni\\_GARC,Xmalinche\\_CHIC2,(Xcortezi,(Xmontezumae,((((((Xalvarezi,Xmayae):0.33573261546776034,Xhellerii):0.2570428685455809,Xsignum):1.8684829981806892,(Xclemenciae\\_F2,Xmonticolus):1.4568562811775525):0.9894123051197872,((((((((Xgordoni,Xmeyeri):0.260941650500119,Xcouchianus):3.5263530419946125,Xvariatus):0.6441174121326382,Xevelynae):0.4623785424025624,Xmilleri):0.2206839165610763,Xxiphidium):0.34187169818975405,Xandersi):0.4130797975090862,Xmaculatus):0.562819643879695):2.2238926599946973,((Xcontinens,Xpygmaeus):1.968647426989417,(Xnigrensis,Xmultilineatus):1.4508222016470356):2.427787188281627):0.4925677072017978):0.690280843537655):0.8942572881883746);  & $\\dots$ \\\\\n",
       "\t2 & 2 & 59233.5 & 1 & (Xalvarezi,Xmayae,(Xhellerii,(Xsignum,((Xclemenciae\\_F2,Xmonticolus):1.455322656168836,(((((((((Xgordoni,Xmeyeri):0.2610026897629548,Xcouchianus):3.531493889011526,Xvariatus):0.644534784375658,Xevelynae):0.41219787411358233,(Xxiphidium,\\#H24:0.0::0.16538233670655728):1.4020273950442304):0.29212528628225487,Xmilleri):0.4688643862801541,Xandersi):0.6492570259172087,Xmaculatus):1.0200602335138427,(((Xmontezumae,(Xcortezi,(Xbirchmanni\\_GARC,Xmalinche\\_CHIC2):0.8942911134439004):0.690375933272812):0.4926228956226752,((Xnigrensis,Xmultilineatus):1.4508225039152296,(Xpygmaeus,Xcontinens):1.9686774043375257):2.428060196425017):2.0434444934052576)\\#H24:0.6478008024324021::0.8346176632934428):0.7898257175666403):1.8657998487106953):0.25701125505807526):0.33572600309280426);  & $\\dots$ \\\\\n",
       "\t3 & 2 & 57009.0 & 2 & (Xalvarezi,Xmayae,((Xsignum,((((((((((Xgordoni,Xmeyeri):0.25757271724098973,Xcouchianus):3.532988564977703,Xvariatus):0.6446874258517096,Xevelynae):0.41246317079421246,(Xxiphidium,\\#H24:5.033042683966118e-5::0.1653507310929094):1.398925043206115):0.2918978446396917,Xmilleri):0.46937386703955525,Xandersi):0.648566637613014,Xmaculatus):1.0205076379294598,(((Xmontezumae,(Xcortezi,(Xbirchmanni\\_GARC,Xmalinche\\_CHIC2):0.8933630420154336):0.6905025860207384):0.4927411378289649,((Xpygmaeus,Xcontinens):1.9664507275033072,(Xnigrensis,Xmultilineatus):1.4508567283913851):2.4270831402806183):2.043390027949852)\\#H24:0.6480499371048025::0.8346492689070906):0.7855919377529405,(\\#H25:::0.050786281612018494,(Xmonticolus,Xclemenciae\\_F2):1.0138684239242646):0.4487819754223839):2.0236780910471106):0.3500485536689108,(Xhellerii)\\#H25:::0.9492137183879815):0.25396465312557864);  & $\\dots$ \\\\\n",
       "\t4 & 2 & 11385.9 & 3 & ((Xmayae,(Xsignum,\\#H25:1.5110480531329233::0.4327950246782939):4.04058166057681):0.29097932418472794,(Xhellerii,((((((Xmilleri,((Xxiphidium,\\#H24:0.0025733981072351224::0.1653578762288908):1.4105052944020438,((((Xgordoni,Xmeyeri):0.2670867288636092,Xcouchianus):3.5136450622639113,Xvariatus):0.6447932507803675,Xevelynae):0.4127047464709273):0.29169621821694164):0.4689913906836836,Xandersi):0.6508723073329289,Xmaculatus):1.0204452453357777,((((Xmontezumae,(Xcortezi,((Xmalinche\\_CHIC2,Xbirchmanni\\_GARC):1.0856348061486425)\\#H26:0.0::0.8723944119423989):1.2642136964649866):0.6291264913973904,((Xnigrensis,Xmultilineatus):1.451720793459369,(Xpygmaeus,Xcontinens):1.9559255320014535):2.373363334840846):1.1256981032693505,\\#H26:8.409270739061494::0.1276055880576011):1.0752369723711777)\\#H24:0.6351120238201327::0.8346421237711092):0.7893778931636327,(Xclemenciae\\_F2,Xmonticolus):1.456643524686765):1.7670793573232058)\\#H25:1.0595886525893456::0.5672049753217061):0.6877953118502366,Xalvarezi);  & $\\dots$ \\\\\n",
       "\t5 & 2 & 15946.9 & 4 & (Xmayae,(Xsignum,\\#H25:5.082734418311206::0.4297665177229852):5.389522596050399,(Xalvarezi,(Xhellerii,((((((((((Xcouchianus,(Xgordoni,Xmeyeri):0.26982703129359165):3.528156599650305,Xvariatus):0.6451972575923878,Xevelynae):0.4132554616556287,(Xxiphidium,\\#H24:5.053262181453364e-7::0.16724263361511957):1.3645966998080217):0.2928115249732738,Xmilleri):0.4695819018570044,Xandersi):0.652404878269161,Xmaculatus):1.0226807289762099,((((Xmontezumae,(Xcortezi,((Xmalinche\\_CHIC2,Xbirchmanni\\_GARC):1.0838178327980086)\\#H26:0.0::0.8693055723450269):1.2846241894511057):0.6309005880443043,(((Xcontinens,Xpygmaeus):1.912865527596485,(Xmultilineatus,(Xnigrensis)\\#H27:::0.9447822653040753):2.138908465488343):2.227566241667269,\\#H27:::0.05521773469592468):0.40528350596573853):1.0944028754090103,\\#H26:8.783891184553742::0.13069442765497302):1.2813319307841795)\\#H24:0.25525058507880977::0.8327573663848804):0.7886700270252991,(Xclemenciae\\_F2,Xmonticolus):1.4612756743529391):1.8576821615306418)\\#H25:0.29612853982581955::0.5702334822770148):0.6686833710721246):0.2691192410484597);  & $\\dots$ \\\\\n",
       "\t6 & 2 & 21882.7 & 5 & (Xmayae,((Xhellerii,((((((((((((Xgordoni,Xmeyeri):0.2631227031446862,Xcouchianus):3.54021612159992,Xvariatus):0.6437316675570034,Xevelynae):0.4114043093284645,(Xxiphidium,\\#H24:7.809109621543954e-7::0.1649517615020249):1.4165913479654098):0.2921964918454891,Xmilleri):0.4691622169119663,Xandersi):0.6488320449041185,Xmaculatus):1.018515784980067,((((Xmontezumae,(Xcortezi,((Xmalinche\\_CHIC2,Xbirchmanni\\_GARC):1.0849726998175)\\#H26:0.0010908140230310095::0.8685945336508559):1.2792390904173159):0.6320193209227563,((Xnigrensis,(Xmultilineatus)\\#H27:::0.8933645769387583):2.1536576339054445,(\\#H27:::0.10663542306124178,(Xcontinens,Xpygmaeus):1.2578127470041887):0.7723312910403919):2.3389927104259014):1.074742972912891,\\#H26:8.295425154703283::0.1314054663491441):1.1091321001809857)\\#H24:0.6580752321658498::0.8350482384979752):0.7606154109054719,(Xmonticolus,(Xclemenciae\\_F2)\\#H28:::0.8872061505132185):2.178805456475259):0.6531834063316464,\\#H28:::0.11279384948678145):1.1802247941509667)\\#H25:0.6615510973730296::0.5706273914381044):0.6810352768760031,Xalvarezi):0.26007612581046646,(Xsignum,\\#H25:9.581758012036618::0.4293726085618957):5.979160617223211);  & $\\dots$ \\\\\n",
       "\\end{tabular}\n"
      ],
      "text/plain": [
       "\u001b[1m6×5 DataFrame\u001b[0m\n",
       "\u001b[1m Row \u001b[0m│\u001b[1m whichSNaQ \u001b[0m\u001b[1m runtime \u001b[0m\u001b[1m nhybrids \u001b[0m\u001b[1m best_network                      \u001b[0m\u001b[1m neglog\u001b[0m ⋯\n",
       "     │\u001b[90m Int64     \u001b[0m\u001b[90m Float64 \u001b[0m\u001b[90m Int64    \u001b[0m\u001b[90m String                            \u001b[0m\u001b[90m Float6\u001b[0m ⋯\n",
       "─────┼──────────────────────────────────────────────────────────────────────────\n",
       "   1 │         2  28878.5         0  (Xbirchmanni_GARC,Xmalinche_CHIC…   12306 ⋯\n",
       "   2 │         2  59233.5         1  (Xalvarezi,Xmayae,(Xhellerii,(Xs…    8087\n",
       "   3 │         2  57009.0         2  (Xalvarezi,Xmayae,((Xsignum,((((…    8010\n",
       "   4 │         2  11385.9         3  ((Xmayae,(Xsignum,#H25:1.5110480…    7045\n",
       "   5 │         2  15946.9         4  (Xmayae,(Xsignum,#H25:5.08273441…    6910 ⋯\n",
       "   6 │         2  21882.7         5  (Xmayae,((Xhellerii,((((((((((((…    6920\n",
       "\u001b[36m                                                                1 column omitted\u001b[0m"
      ]
     },
     "metadata": {},
     "output_type": "display_data"
    }
   ],
   "source": [
    "df"
   ]
  },
  {
   "cell_type": "markdown",
   "metadata": {},
   "source": [
    "## SNaQ 1 data"
   ]
  },
  {
   "cell_type": "code",
   "execution_count": 3,
   "metadata": {},
   "outputs": [
    {
     "data": {
      "text/html": [
       "<div><div style = \"float: left;\"><span>12×5 DataFrame</span></div><div style = \"clear: both;\"></div></div><div class = \"data-frame\" style = \"overflow-x: scroll;\"><table class = \"data-frame\" style = \"margin-bottom: 6px;\"><thead><tr class = \"header\"><th class = \"rowNumber\" style = \"font-weight: bold; text-align: right;\">Row</th><th style = \"text-align: left;\">whichSNaQ</th><th style = \"text-align: left;\">runtime</th><th style = \"text-align: left;\">nhybrids</th><th style = \"text-align: left;\">best_network</th><th style = \"text-align: left;\">negloglik</th></tr><tr class = \"subheader headerLastRow\"><th class = \"rowNumber\" style = \"font-weight: bold; text-align: right;\"></th><th title = \"Int64\" style = \"text-align: left;\">Int64</th><th title = \"Float64\" style = \"text-align: left;\">Float64</th><th title = \"Int64\" style = \"text-align: left;\">Int64</th><th title = \"String\" style = \"text-align: left;\">String</th><th title = \"Float64\" style = \"text-align: left;\">Float64</th></tr></thead><tbody><tr><td class = \"rowNumber\" style = \"font-weight: bold; text-align: right;\">1</td><td style = \"text-align: right;\">2</td><td style = \"text-align: right;\">28878.5</td><td style = \"text-align: right;\">0</td><td style = \"text-align: left;\">(Xbirchmanni_GARC,Xmalinche_CHIC2,(Xcortezi,(Xmontezumae,((((((Xalvarezi,Xmayae):0.33573261546776034,Xhellerii):0.2570428685455809,Xsignum):1.8684829981806892,(Xclemenciae_F2,Xmonticolus):1.4568562811775525):0.9894123051197872,((((((((Xgordoni,Xmeyeri):0.260941650500119,Xcouchianus):3.5263530419946125,Xvariatus):0.6441174121326382,Xevelynae):0.4623785424025624,Xmilleri):0.2206839165610763,Xxiphidium):0.34187169818975405,Xandersi):0.4130797975090862,Xmaculatus):0.562819643879695):2.2238926599946973,((Xcontinens,Xpygmaeus):1.968647426989417,(Xnigrensis,Xmultilineatus):1.4508222016470356):2.427787188281627):0.4925677072017978):0.690280843537655):0.8942572881883746); </td><td style = \"text-align: right;\">12306.3</td></tr><tr><td class = \"rowNumber\" style = \"font-weight: bold; text-align: right;\">2</td><td style = \"text-align: right;\">2</td><td style = \"text-align: right;\">59233.5</td><td style = \"text-align: right;\">1</td><td style = \"text-align: left;\">(Xalvarezi,Xmayae,(Xhellerii,(Xsignum,((Xclemenciae_F2,Xmonticolus):1.455322656168836,(((((((((Xgordoni,Xmeyeri):0.2610026897629548,Xcouchianus):3.531493889011526,Xvariatus):0.644534784375658,Xevelynae):0.41219787411358233,(Xxiphidium,#H24:0.0::0.16538233670655728):1.4020273950442304):0.29212528628225487,Xmilleri):0.4688643862801541,Xandersi):0.6492570259172087,Xmaculatus):1.0200602335138427,(((Xmontezumae,(Xcortezi,(Xbirchmanni_GARC,Xmalinche_CHIC2):0.8942911134439004):0.690375933272812):0.4926228956226752,((Xnigrensis,Xmultilineatus):1.4508225039152296,(Xpygmaeus,Xcontinens):1.9686774043375257):2.428060196425017):2.0434444934052576)#H24:0.6478008024324021::0.8346176632934428):0.7898257175666403):1.8657998487106953):0.25701125505807526):0.33572600309280426); </td><td style = \"text-align: right;\">8087.16</td></tr><tr><td class = \"rowNumber\" style = \"font-weight: bold; text-align: right;\">3</td><td style = \"text-align: right;\">2</td><td style = \"text-align: right;\">57009.0</td><td style = \"text-align: right;\">2</td><td style = \"text-align: left;\">(Xalvarezi,Xmayae,((Xsignum,((((((((((Xgordoni,Xmeyeri):0.25757271724098973,Xcouchianus):3.532988564977703,Xvariatus):0.6446874258517096,Xevelynae):0.41246317079421246,(Xxiphidium,#H24:5.033042683966118e-5::0.1653507310929094):1.398925043206115):0.2918978446396917,Xmilleri):0.46937386703955525,Xandersi):0.648566637613014,Xmaculatus):1.0205076379294598,(((Xmontezumae,(Xcortezi,(Xbirchmanni_GARC,Xmalinche_CHIC2):0.8933630420154336):0.6905025860207384):0.4927411378289649,((Xpygmaeus,Xcontinens):1.9664507275033072,(Xnigrensis,Xmultilineatus):1.4508567283913851):2.4270831402806183):2.043390027949852)#H24:0.6480499371048025::0.8346492689070906):0.7855919377529405,(#H25:::0.050786281612018494,(Xmonticolus,Xclemenciae_F2):1.0138684239242646):0.4487819754223839):2.0236780910471106):0.3500485536689108,(Xhellerii)#H25:::0.9492137183879815):0.25396465312557864); </td><td style = \"text-align: right;\">8010.05</td></tr><tr><td class = \"rowNumber\" style = \"font-weight: bold; text-align: right;\">4</td><td style = \"text-align: right;\">2</td><td style = \"text-align: right;\">11385.9</td><td style = \"text-align: right;\">3</td><td style = \"text-align: left;\">((Xmayae,(Xsignum,#H25:1.5110480531329233::0.4327950246782939):4.04058166057681):0.29097932418472794,(Xhellerii,((((((Xmilleri,((Xxiphidium,#H24:0.0025733981072351224::0.1653578762288908):1.4105052944020438,((((Xgordoni,Xmeyeri):0.2670867288636092,Xcouchianus):3.5136450622639113,Xvariatus):0.6447932507803675,Xevelynae):0.4127047464709273):0.29169621821694164):0.4689913906836836,Xandersi):0.6508723073329289,Xmaculatus):1.0204452453357777,((((Xmontezumae,(Xcortezi,((Xmalinche_CHIC2,Xbirchmanni_GARC):1.0856348061486425)#H26:0.0::0.8723944119423989):1.2642136964649866):0.6291264913973904,((Xnigrensis,Xmultilineatus):1.451720793459369,(Xpygmaeus,Xcontinens):1.9559255320014535):2.373363334840846):1.1256981032693505,#H26:8.409270739061494::0.1276055880576011):1.0752369723711777)#H24:0.6351120238201327::0.8346421237711092):0.7893778931636327,(Xclemenciae_F2,Xmonticolus):1.456643524686765):1.7670793573232058)#H25:1.0595886525893456::0.5672049753217061):0.6877953118502366,Xalvarezi); </td><td style = \"text-align: right;\">7045.49</td></tr><tr><td class = \"rowNumber\" style = \"font-weight: bold; text-align: right;\">5</td><td style = \"text-align: right;\">2</td><td style = \"text-align: right;\">15946.9</td><td style = \"text-align: right;\">4</td><td style = \"text-align: left;\">(Xmayae,(Xsignum,#H25:5.082734418311206::0.4297665177229852):5.389522596050399,(Xalvarezi,(Xhellerii,((((((((((Xcouchianus,(Xgordoni,Xmeyeri):0.26982703129359165):3.528156599650305,Xvariatus):0.6451972575923878,Xevelynae):0.4132554616556287,(Xxiphidium,#H24:5.053262181453364e-7::0.16724263361511957):1.3645966998080217):0.2928115249732738,Xmilleri):0.4695819018570044,Xandersi):0.652404878269161,Xmaculatus):1.0226807289762099,((((Xmontezumae,(Xcortezi,((Xmalinche_CHIC2,Xbirchmanni_GARC):1.0838178327980086)#H26:0.0::0.8693055723450269):1.2846241894511057):0.6309005880443043,(((Xcontinens,Xpygmaeus):1.912865527596485,(Xmultilineatus,(Xnigrensis)#H27:::0.9447822653040753):2.138908465488343):2.227566241667269,#H27:::0.05521773469592468):0.40528350596573853):1.0944028754090103,#H26:8.783891184553742::0.13069442765497302):1.2813319307841795)#H24:0.25525058507880977::0.8327573663848804):0.7886700270252991,(Xclemenciae_F2,Xmonticolus):1.4612756743529391):1.8576821615306418)#H25:0.29612853982581955::0.5702334822770148):0.6686833710721246):0.2691192410484597); </td><td style = \"text-align: right;\">6910.6</td></tr><tr><td class = \"rowNumber\" style = \"font-weight: bold; text-align: right;\">6</td><td style = \"text-align: right;\">2</td><td style = \"text-align: right;\">21882.7</td><td style = \"text-align: right;\">5</td><td style = \"text-align: left;\">(Xmayae,((Xhellerii,((((((((((((Xgordoni,Xmeyeri):0.2631227031446862,Xcouchianus):3.54021612159992,Xvariatus):0.6437316675570034,Xevelynae):0.4114043093284645,(Xxiphidium,#H24:7.809109621543954e-7::0.1649517615020249):1.4165913479654098):0.2921964918454891,Xmilleri):0.4691622169119663,Xandersi):0.6488320449041185,Xmaculatus):1.018515784980067,((((Xmontezumae,(Xcortezi,((Xmalinche_CHIC2,Xbirchmanni_GARC):1.0849726998175)#H26:0.0010908140230310095::0.8685945336508559):1.2792390904173159):0.6320193209227563,((Xnigrensis,(Xmultilineatus)#H27:::0.8933645769387583):2.1536576339054445,(#H27:::0.10663542306124178,(Xcontinens,Xpygmaeus):1.2578127470041887):0.7723312910403919):2.3389927104259014):1.074742972912891,#H26:8.295425154703283::0.1314054663491441):1.1091321001809857)#H24:0.6580752321658498::0.8350482384979752):0.7606154109054719,(Xmonticolus,(Xclemenciae_F2)#H28:::0.8872061505132185):2.178805456475259):0.6531834063316464,#H28:::0.11279384948678145):1.1802247941509667)#H25:0.6615510973730296::0.5706273914381044):0.6810352768760031,Xalvarezi):0.26007612581046646,(Xsignum,#H25:9.581758012036618::0.4293726085618957):5.979160617223211); </td><td style = \"text-align: right;\">6920.93</td></tr><tr><td class = \"rowNumber\" style = \"font-weight: bold; text-align: right;\">7</td><td style = \"text-align: right;\">1</td><td style = \"text-align: right;\">62189.9</td><td style = \"text-align: right;\">0</td><td style = \"text-align: left;\">(Xbirchmanni_GARC,Xmalinche_CHIC2,(Xcortezi,((((Xcontinens,Xpygmaeus):1.9686746399192034,(Xnigrensis,Xmultilineatus):1.4507946075895048):2.4277831703754047,(((((((((Xgordoni,Xmeyeri):0.26096116854800855,Xcouchianus):3.5262740112374034,Xvariatus):0.6441337797254055,Xevelynae):0.46238113045940904,Xmilleri):0.2206796711101763,Xxiphidium):0.34187335598897917,Xandersi):0.4130796436664383,Xmaculatus):0.5628172294686543,((((Xalvarezi,Xmayae):0.33575629100320215,Xhellerii):0.2570030405820556,Xsignum):1.8684905148667412,(Xclemenciae_F2,Xmonticolus):1.4568344768997241):0.989409830282603):2.223889084775516):0.4925710493816971,Xmontezumae):0.6902757536009876):0.8942518687351185); </td><td style = \"text-align: right;\">12306.3</td></tr><tr><td class = \"rowNumber\" style = \"font-weight: bold; text-align: right;\">8</td><td style = \"text-align: right;\">1</td><td style = \"text-align: right;\">105512.0</td><td style = \"text-align: right;\">1</td><td style = \"text-align: left;\">(Xalvarezi,Xmayae,(Xhellerii,(Xsignum,((Xclemenciae_F2,Xmonticolus):1.4552041214707416,(((((((((Xgordoni,Xmeyeri):0.2609873101734162,Xcouchianus):3.528063280805239,Xvariatus):0.6446279089286899,Xevelynae):0.462284368652192,Xmilleri):0.15800582733701732,(Xxiphidium,#H24:::0.17643906087780342):1.1198276366293516):0.49283646032809314,Xandersi):0.6432655641682358,Xmaculatus):1.025780855129809,(((Xmontezumae,(Xcortezi,(Xbirchmanni_GARC,Xmalinche_CHIC2):0.8943065261646596):0.6903951873120144):0.4926049347387669,((Xnigrensis,Xmultilineatus):1.4508249886879712,(Xpygmaeus,Xcontinens):1.9686623551644915):2.4280738607161476):1.684904995871621)#H24:::0.8235609391221965):0.7799246954466896):1.8655924988330903):0.2570158690012912):0.33572199673987246); </td><td style = \"text-align: right;\">8750.86</td></tr><tr><td class = \"rowNumber\" style = \"font-weight: bold; text-align: right;\">9</td><td style = \"text-align: right;\">1</td><td style = \"text-align: right;\">1.36171e5</td><td style = \"text-align: right;\">2</td><td style = \"text-align: left;\">(Xalvarezi,Xmayae,((Xsignum,((Xmonticolus,(Xclemenciae_F2,#H25:::0.032485577051040423):0.979116879342896):1.4858786525152954,(((((((((Xgordoni,Xmeyeri):0.26111415598145865,Xcouchianus):3.5325554148283564,Xvariatus):0.6445452395880061,Xevelynae):0.41219807813960146,(Xxiphidium,#H24:0.0::0.16538333427567822):1.4020042304402076):0.2921320715527958,Xmilleri):0.4688709909949548,Xandersi):0.6492623942884177,Xmaculatus):1.0200542801748702,(((Xmontezumae,(Xcortezi,(Xbirchmanni_GARC,Xmalinche_CHIC2):0.8943004029517725):0.6903622798656042):0.4926275928330048,((Xnigrensis,Xmultilineatus):1.4508210422790195,(Xpygmaeus,Xcontinens):1.9686498919562234):2.428065080719157):2.0435103751744865)#H24:0.6476450483433508::0.8346166657243218):0.7816554661308311):1.9841381634366537):0.31614675520900004,(Xhellerii)#H25:::0.9675144229489596):0.28226883225049243); </td><td style = \"text-align: right;\">8014.52</td></tr><tr><td class = \"rowNumber\" style = \"font-weight: bold; text-align: right;\">10</td><td style = \"text-align: right;\">1</td><td style = \"text-align: right;\">2.0969e5</td><td style = \"text-align: right;\">3</td><td style = \"text-align: left;\">(Xalvarezi,Xmayae,((Xsignum,(((((((((((Xgordoni,Xmeyeri):0.260934039544222,Xcouchianus):3.5312797360545534,Xvariatus):0.6443399024732661,Xevelynae):0.4123855942918298,(Xxiphidium,#H24:0.0018361266408130198::0.16539114989813283):1.4008222473756964):0.2917923569670647,Xmilleri):0.469349177188365,Xandersi):0.6487539881470423,Xmaculatus):1.0198477802411505,((((Xmontezumae,(Xcortezi,((Xmalinche_CHIC2,Xbirchmanni_GARC):1.083313518019925)#H26:0.0::0.8727956310421234):1.2638928371797538):0.6285091821002746,((Xnigrensis,Xmultilineatus):1.4513524061920164,(Xpygmaeus,Xcontinens):1.9718994304295323):2.3735668516591146):1.1260098714831577,#H26:8.623855915393824::0.12720436895787657):1.069385985597533)#H24:0.6477570616947983::0.8346088501018671):0.7903361834646656,(Xclemenciae_F2,Xmonticolus):1.4531323606875988):1.350827768154535,#H25:::0.3692984937136875):0.681502354092836):0.633639354032585,(Xhellerii)#H25:::0.6307015062863125):0.0); </td><td style = \"text-align: right;\">7268.36</td></tr><tr><td class = \"rowNumber\" style = \"font-weight: bold; text-align: right;\">11</td><td style = \"text-align: right;\">1</td><td style = \"text-align: right;\">7.51545e5</td><td style = \"text-align: right;\">4</td><td style = \"text-align: left;\">(Xmayae,((Xhellerii,(((((((((((Xgordoni,Xmeyeri):0.2503497914751533,Xcouchianus):3.5143166368487426,Xvariatus):0.6445944360537064,Xevelynae):0.4113658990914516,(Xxiphidium,#H24:5.262467132163245e-7::0.16816746656535694):1.3699787556284733):0.29194656618000037,Xmilleri):0.4679423183559616,Xandersi):0.6530709937282461,Xmaculatus):1.0254812089946383,((((Xmontezumae,(Xcortezi,((Xmalinche_CHIC2,Xbirchmanni_GARC):1.0805658683802386)#H26:0.0::0.8652558957282537):1.2852462212448634):0.6355801429124722,((Xcontinens,(Xpygmaeus,#H27:::0.04213539011675838):1.2279567731725056):2.0871431952461132,(Xnigrensis,(Xmultilineatus)#H27:::0.9578646098832416):1.7345346439397828):2.3420750778636994):1.0176187742045466,#H26:8.593130851108928::0.1347441042717463):1.4215052569879263)#H24:0.11134815801376252::0.831832533434643):0.7855905848434657,(Xclemenciae_F2,Xmonticolus):1.4539995041315041):1.688639355236414)#H25:1.7167114098272962::0.5598732308660994):0.7276810667457978,Xalvarezi):0.24908361375205645,(Xsignum,#H25:4.638013849279179::0.4401267691339006):3.2715480768342116); </td><td style = \"text-align: right;\">7053.33</td></tr><tr><td class = \"rowNumber\" style = \"font-weight: bold; text-align: right;\">12</td><td style = \"text-align: right;\">1</td><td style = \"text-align: right;\">1.75689e5</td><td style = \"text-align: right;\">5</td><td style = \"text-align: left;\">(Xmayae,((Xhellerii,((((((((((((Xgordoni,Xmeyeri):0.26288003539447563,Xcouchianus):3.5316206217653274,Xvariatus):0.6455291326119673,Xevelynae):0.4111685702431165,(Xxiphidium,#H24:5.24460669974415e-7::0.1668054423118095):1.3741742525902727):0.2929829215332769,Xmilleri):0.4699283116965078,Xandersi):0.6495881117323812,Xmaculatus):1.0219292263416704,((((Xmontezumae,(Xcortezi,((Xmalinche_CHIC2,Xbirchmanni_GARC):1.076581051819183)#H26:0.020332521129393374::0.869412679921953):1.2795080898457403):0.6342192691008461,((Xnigrensis,(Xmultilineatus)#H27:::0.9196276851750825):1.9267265788980392,(#H27:::0.0803723148249175,(Xcontinens,Xpygmaeus):1.1133638730620816):0.8879852120835154):2.343672147813728):1.103951991906288,#H26:7.246926015211305::0.13058732007804696):1.2481251155312258)#H24:0.3023656122436739::0.8331945576881905):0.757785564757215,(Xmonticolus,(Xclemenciae_F2)#H28:::0.9198459069223606):1.949276643450234):1.149729004325246,#H28:::0.08015409307763947):0.6473757665476981)#H25:1.0581245012020082::0.569624299891438):0.6822757414084448,Xalvarezi):0.28538412154183945,(Xsignum,#H25:9.772583434987848::0.4303757001085619):4.897252902886207); </td><td style = \"text-align: right;\">6942.71</td></tr></tbody></table></div>"
      ],
      "text/latex": [
       "\\begin{tabular}{r|ccccc}\n",
       "\t& whichSNaQ & runtime & nhybrids & best\\_network & \\\\\n",
       "\t\\hline\n",
       "\t& Int64 & Float64 & Int64 & String & \\\\\n",
       "\t\\hline\n",
       "\t1 & 2 & 28878.5 & 0 & (Xbirchmanni\\_GARC,Xmalinche\\_CHIC2,(Xcortezi,(Xmontezumae,((((((Xalvarezi,Xmayae):0.33573261546776034,Xhellerii):0.2570428685455809,Xsignum):1.8684829981806892,(Xclemenciae\\_F2,Xmonticolus):1.4568562811775525):0.9894123051197872,((((((((Xgordoni,Xmeyeri):0.260941650500119,Xcouchianus):3.5263530419946125,Xvariatus):0.6441174121326382,Xevelynae):0.4623785424025624,Xmilleri):0.2206839165610763,Xxiphidium):0.34187169818975405,Xandersi):0.4130797975090862,Xmaculatus):0.562819643879695):2.2238926599946973,((Xcontinens,Xpygmaeus):1.968647426989417,(Xnigrensis,Xmultilineatus):1.4508222016470356):2.427787188281627):0.4925677072017978):0.690280843537655):0.8942572881883746);  & $\\dots$ \\\\\n",
       "\t2 & 2 & 59233.5 & 1 & (Xalvarezi,Xmayae,(Xhellerii,(Xsignum,((Xclemenciae\\_F2,Xmonticolus):1.455322656168836,(((((((((Xgordoni,Xmeyeri):0.2610026897629548,Xcouchianus):3.531493889011526,Xvariatus):0.644534784375658,Xevelynae):0.41219787411358233,(Xxiphidium,\\#H24:0.0::0.16538233670655728):1.4020273950442304):0.29212528628225487,Xmilleri):0.4688643862801541,Xandersi):0.6492570259172087,Xmaculatus):1.0200602335138427,(((Xmontezumae,(Xcortezi,(Xbirchmanni\\_GARC,Xmalinche\\_CHIC2):0.8942911134439004):0.690375933272812):0.4926228956226752,((Xnigrensis,Xmultilineatus):1.4508225039152296,(Xpygmaeus,Xcontinens):1.9686774043375257):2.428060196425017):2.0434444934052576)\\#H24:0.6478008024324021::0.8346176632934428):0.7898257175666403):1.8657998487106953):0.25701125505807526):0.33572600309280426);  & $\\dots$ \\\\\n",
       "\t3 & 2 & 57009.0 & 2 & (Xalvarezi,Xmayae,((Xsignum,((((((((((Xgordoni,Xmeyeri):0.25757271724098973,Xcouchianus):3.532988564977703,Xvariatus):0.6446874258517096,Xevelynae):0.41246317079421246,(Xxiphidium,\\#H24:5.033042683966118e-5::0.1653507310929094):1.398925043206115):0.2918978446396917,Xmilleri):0.46937386703955525,Xandersi):0.648566637613014,Xmaculatus):1.0205076379294598,(((Xmontezumae,(Xcortezi,(Xbirchmanni\\_GARC,Xmalinche\\_CHIC2):0.8933630420154336):0.6905025860207384):0.4927411378289649,((Xpygmaeus,Xcontinens):1.9664507275033072,(Xnigrensis,Xmultilineatus):1.4508567283913851):2.4270831402806183):2.043390027949852)\\#H24:0.6480499371048025::0.8346492689070906):0.7855919377529405,(\\#H25:::0.050786281612018494,(Xmonticolus,Xclemenciae\\_F2):1.0138684239242646):0.4487819754223839):2.0236780910471106):0.3500485536689108,(Xhellerii)\\#H25:::0.9492137183879815):0.25396465312557864);  & $\\dots$ \\\\\n",
       "\t4 & 2 & 11385.9 & 3 & ((Xmayae,(Xsignum,\\#H25:1.5110480531329233::0.4327950246782939):4.04058166057681):0.29097932418472794,(Xhellerii,((((((Xmilleri,((Xxiphidium,\\#H24:0.0025733981072351224::0.1653578762288908):1.4105052944020438,((((Xgordoni,Xmeyeri):0.2670867288636092,Xcouchianus):3.5136450622639113,Xvariatus):0.6447932507803675,Xevelynae):0.4127047464709273):0.29169621821694164):0.4689913906836836,Xandersi):0.6508723073329289,Xmaculatus):1.0204452453357777,((((Xmontezumae,(Xcortezi,((Xmalinche\\_CHIC2,Xbirchmanni\\_GARC):1.0856348061486425)\\#H26:0.0::0.8723944119423989):1.2642136964649866):0.6291264913973904,((Xnigrensis,Xmultilineatus):1.451720793459369,(Xpygmaeus,Xcontinens):1.9559255320014535):2.373363334840846):1.1256981032693505,\\#H26:8.409270739061494::0.1276055880576011):1.0752369723711777)\\#H24:0.6351120238201327::0.8346421237711092):0.7893778931636327,(Xclemenciae\\_F2,Xmonticolus):1.456643524686765):1.7670793573232058)\\#H25:1.0595886525893456::0.5672049753217061):0.6877953118502366,Xalvarezi);  & $\\dots$ \\\\\n",
       "\t5 & 2 & 15946.9 & 4 & (Xmayae,(Xsignum,\\#H25:5.082734418311206::0.4297665177229852):5.389522596050399,(Xalvarezi,(Xhellerii,((((((((((Xcouchianus,(Xgordoni,Xmeyeri):0.26982703129359165):3.528156599650305,Xvariatus):0.6451972575923878,Xevelynae):0.4132554616556287,(Xxiphidium,\\#H24:5.053262181453364e-7::0.16724263361511957):1.3645966998080217):0.2928115249732738,Xmilleri):0.4695819018570044,Xandersi):0.652404878269161,Xmaculatus):1.0226807289762099,((((Xmontezumae,(Xcortezi,((Xmalinche\\_CHIC2,Xbirchmanni\\_GARC):1.0838178327980086)\\#H26:0.0::0.8693055723450269):1.2846241894511057):0.6309005880443043,(((Xcontinens,Xpygmaeus):1.912865527596485,(Xmultilineatus,(Xnigrensis)\\#H27:::0.9447822653040753):2.138908465488343):2.227566241667269,\\#H27:::0.05521773469592468):0.40528350596573853):1.0944028754090103,\\#H26:8.783891184553742::0.13069442765497302):1.2813319307841795)\\#H24:0.25525058507880977::0.8327573663848804):0.7886700270252991,(Xclemenciae\\_F2,Xmonticolus):1.4612756743529391):1.8576821615306418)\\#H25:0.29612853982581955::0.5702334822770148):0.6686833710721246):0.2691192410484597);  & $\\dots$ \\\\\n",
       "\t6 & 2 & 21882.7 & 5 & (Xmayae,((Xhellerii,((((((((((((Xgordoni,Xmeyeri):0.2631227031446862,Xcouchianus):3.54021612159992,Xvariatus):0.6437316675570034,Xevelynae):0.4114043093284645,(Xxiphidium,\\#H24:7.809109621543954e-7::0.1649517615020249):1.4165913479654098):0.2921964918454891,Xmilleri):0.4691622169119663,Xandersi):0.6488320449041185,Xmaculatus):1.018515784980067,((((Xmontezumae,(Xcortezi,((Xmalinche\\_CHIC2,Xbirchmanni\\_GARC):1.0849726998175)\\#H26:0.0010908140230310095::0.8685945336508559):1.2792390904173159):0.6320193209227563,((Xnigrensis,(Xmultilineatus)\\#H27:::0.8933645769387583):2.1536576339054445,(\\#H27:::0.10663542306124178,(Xcontinens,Xpygmaeus):1.2578127470041887):0.7723312910403919):2.3389927104259014):1.074742972912891,\\#H26:8.295425154703283::0.1314054663491441):1.1091321001809857)\\#H24:0.6580752321658498::0.8350482384979752):0.7606154109054719,(Xmonticolus,(Xclemenciae\\_F2)\\#H28:::0.8872061505132185):2.178805456475259):0.6531834063316464,\\#H28:::0.11279384948678145):1.1802247941509667)\\#H25:0.6615510973730296::0.5706273914381044):0.6810352768760031,Xalvarezi):0.26007612581046646,(Xsignum,\\#H25:9.581758012036618::0.4293726085618957):5.979160617223211);  & $\\dots$ \\\\\n",
       "\t7 & 1 & 62189.9 & 0 & (Xbirchmanni\\_GARC,Xmalinche\\_CHIC2,(Xcortezi,((((Xcontinens,Xpygmaeus):1.9686746399192034,(Xnigrensis,Xmultilineatus):1.4507946075895048):2.4277831703754047,(((((((((Xgordoni,Xmeyeri):0.26096116854800855,Xcouchianus):3.5262740112374034,Xvariatus):0.6441337797254055,Xevelynae):0.46238113045940904,Xmilleri):0.2206796711101763,Xxiphidium):0.34187335598897917,Xandersi):0.4130796436664383,Xmaculatus):0.5628172294686543,((((Xalvarezi,Xmayae):0.33575629100320215,Xhellerii):0.2570030405820556,Xsignum):1.8684905148667412,(Xclemenciae\\_F2,Xmonticolus):1.4568344768997241):0.989409830282603):2.223889084775516):0.4925710493816971,Xmontezumae):0.6902757536009876):0.8942518687351185);  & $\\dots$ \\\\\n",
       "\t8 & 1 & 105512.0 & 1 & (Xalvarezi,Xmayae,(Xhellerii,(Xsignum,((Xclemenciae\\_F2,Xmonticolus):1.4552041214707416,(((((((((Xgordoni,Xmeyeri):0.2609873101734162,Xcouchianus):3.528063280805239,Xvariatus):0.6446279089286899,Xevelynae):0.462284368652192,Xmilleri):0.15800582733701732,(Xxiphidium,\\#H24:::0.17643906087780342):1.1198276366293516):0.49283646032809314,Xandersi):0.6432655641682358,Xmaculatus):1.025780855129809,(((Xmontezumae,(Xcortezi,(Xbirchmanni\\_GARC,Xmalinche\\_CHIC2):0.8943065261646596):0.6903951873120144):0.4926049347387669,((Xnigrensis,Xmultilineatus):1.4508249886879712,(Xpygmaeus,Xcontinens):1.9686623551644915):2.4280738607161476):1.684904995871621)\\#H24:::0.8235609391221965):0.7799246954466896):1.8655924988330903):0.2570158690012912):0.33572199673987246);  & $\\dots$ \\\\\n",
       "\t9 & 1 & 1.36171e5 & 2 & (Xalvarezi,Xmayae,((Xsignum,((Xmonticolus,(Xclemenciae\\_F2,\\#H25:::0.032485577051040423):0.979116879342896):1.4858786525152954,(((((((((Xgordoni,Xmeyeri):0.26111415598145865,Xcouchianus):3.5325554148283564,Xvariatus):0.6445452395880061,Xevelynae):0.41219807813960146,(Xxiphidium,\\#H24:0.0::0.16538333427567822):1.4020042304402076):0.2921320715527958,Xmilleri):0.4688709909949548,Xandersi):0.6492623942884177,Xmaculatus):1.0200542801748702,(((Xmontezumae,(Xcortezi,(Xbirchmanni\\_GARC,Xmalinche\\_CHIC2):0.8943004029517725):0.6903622798656042):0.4926275928330048,((Xnigrensis,Xmultilineatus):1.4508210422790195,(Xpygmaeus,Xcontinens):1.9686498919562234):2.428065080719157):2.0435103751744865)\\#H24:0.6476450483433508::0.8346166657243218):0.7816554661308311):1.9841381634366537):0.31614675520900004,(Xhellerii)\\#H25:::0.9675144229489596):0.28226883225049243);  & $\\dots$ \\\\\n",
       "\t10 & 1 & 2.0969e5 & 3 & (Xalvarezi,Xmayae,((Xsignum,(((((((((((Xgordoni,Xmeyeri):0.260934039544222,Xcouchianus):3.5312797360545534,Xvariatus):0.6443399024732661,Xevelynae):0.4123855942918298,(Xxiphidium,\\#H24:0.0018361266408130198::0.16539114989813283):1.4008222473756964):0.2917923569670647,Xmilleri):0.469349177188365,Xandersi):0.6487539881470423,Xmaculatus):1.0198477802411505,((((Xmontezumae,(Xcortezi,((Xmalinche\\_CHIC2,Xbirchmanni\\_GARC):1.083313518019925)\\#H26:0.0::0.8727956310421234):1.2638928371797538):0.6285091821002746,((Xnigrensis,Xmultilineatus):1.4513524061920164,(Xpygmaeus,Xcontinens):1.9718994304295323):2.3735668516591146):1.1260098714831577,\\#H26:8.623855915393824::0.12720436895787657):1.069385985597533)\\#H24:0.6477570616947983::0.8346088501018671):0.7903361834646656,(Xclemenciae\\_F2,Xmonticolus):1.4531323606875988):1.350827768154535,\\#H25:::0.3692984937136875):0.681502354092836):0.633639354032585,(Xhellerii)\\#H25:::0.6307015062863125):0.0);  & $\\dots$ \\\\\n",
       "\t11 & 1 & 7.51545e5 & 4 & (Xmayae,((Xhellerii,(((((((((((Xgordoni,Xmeyeri):0.2503497914751533,Xcouchianus):3.5143166368487426,Xvariatus):0.6445944360537064,Xevelynae):0.4113658990914516,(Xxiphidium,\\#H24:5.262467132163245e-7::0.16816746656535694):1.3699787556284733):0.29194656618000037,Xmilleri):0.4679423183559616,Xandersi):0.6530709937282461,Xmaculatus):1.0254812089946383,((((Xmontezumae,(Xcortezi,((Xmalinche\\_CHIC2,Xbirchmanni\\_GARC):1.0805658683802386)\\#H26:0.0::0.8652558957282537):1.2852462212448634):0.6355801429124722,((Xcontinens,(Xpygmaeus,\\#H27:::0.04213539011675838):1.2279567731725056):2.0871431952461132,(Xnigrensis,(Xmultilineatus)\\#H27:::0.9578646098832416):1.7345346439397828):2.3420750778636994):1.0176187742045466,\\#H26:8.593130851108928::0.1347441042717463):1.4215052569879263)\\#H24:0.11134815801376252::0.831832533434643):0.7855905848434657,(Xclemenciae\\_F2,Xmonticolus):1.4539995041315041):1.688639355236414)\\#H25:1.7167114098272962::0.5598732308660994):0.7276810667457978,Xalvarezi):0.24908361375205645,(Xsignum,\\#H25:4.638013849279179::0.4401267691339006):3.2715480768342116);  & $\\dots$ \\\\\n",
       "\t12 & 1 & 1.75689e5 & 5 & (Xmayae,((Xhellerii,((((((((((((Xgordoni,Xmeyeri):0.26288003539447563,Xcouchianus):3.5316206217653274,Xvariatus):0.6455291326119673,Xevelynae):0.4111685702431165,(Xxiphidium,\\#H24:5.24460669974415e-7::0.1668054423118095):1.3741742525902727):0.2929829215332769,Xmilleri):0.4699283116965078,Xandersi):0.6495881117323812,Xmaculatus):1.0219292263416704,((((Xmontezumae,(Xcortezi,((Xmalinche\\_CHIC2,Xbirchmanni\\_GARC):1.076581051819183)\\#H26:0.020332521129393374::0.869412679921953):1.2795080898457403):0.6342192691008461,((Xnigrensis,(Xmultilineatus)\\#H27:::0.9196276851750825):1.9267265788980392,(\\#H27:::0.0803723148249175,(Xcontinens,Xpygmaeus):1.1133638730620816):0.8879852120835154):2.343672147813728):1.103951991906288,\\#H26:7.246926015211305::0.13058732007804696):1.2481251155312258)\\#H24:0.3023656122436739::0.8331945576881905):0.757785564757215,(Xmonticolus,(Xclemenciae\\_F2)\\#H28:::0.9198459069223606):1.949276643450234):1.149729004325246,\\#H28:::0.08015409307763947):0.6473757665476981)\\#H25:1.0581245012020082::0.569624299891438):0.6822757414084448,Xalvarezi):0.28538412154183945,(Xsignum,\\#H25:9.772583434987848::0.4303757001085619):4.897252902886207);  & $\\dots$ \\\\\n",
       "\\end{tabular}\n"
      ],
      "text/plain": [
       "\u001b[1m12×5 DataFrame\n",
       "\u001b[1m Row │\u001b[1m whichSNaQ \u001b[1m runtime        \u001b[1m nhybrids \u001b[1m best_network                      \u001b[1m ⋯\n",
       "     │\u001b[90m Int64     \u001b[90m Float64        \u001b[90m Int64    \u001b[90m String                            \u001b[90m ⋯\n",
       "─────┼──────────────────────────────────────────────────────────────────────────\n",
       "   1 │         2   28878.5               0  (Xbirchmanni_GARC,Xmalinche_CHIC…  ⋯\n",
       "   2 │         2   59233.5               1  (Xalvarezi,Xmayae,(Xhellerii,(Xs…\n",
       "   3 │         2   57009.0               2  (Xalvarezi,Xmayae,((Xsignum,((((…\n",
       "   4 │         2   11385.9               3  ((Xmayae,(Xsignum,#H25:1.5110480…\n",
       "   5 │         2   15946.9               4  (Xmayae,(Xsignum,#H25:5.08273441…  ⋯\n",
       "   6 │         2   21882.7               5  (Xmayae,((Xhellerii,((((((((((((…\n",
       "   7 │         1   62189.9               0  (Xbirchmanni_GARC,Xmalinche_CHIC…\n",
       "   8 │         1  105512.0               1  (Xalvarezi,Xmayae,(Xhellerii,(Xs…\n",
       "   9 │         1       1.36171e5         2  (Xalvarezi,Xmayae,((Xsignum,((Xm…  ⋯\n",
       "  10 │         1       2.0969e5          3  (Xalvarezi,Xmayae,((Xsignum,((((…\n",
       "  11 │         1       7.51545e5         4  (Xmayae,((Xhellerii,(((((((((((X…\n",
       "  12 │         1       1.75689e5         5  (Xmayae,((Xhellerii,((((((((((((…\n",
       "\u001b[36m                                                                1 column omitted"
      ]
     },
     "metadata": {},
     "output_type": "display_data"
    }
   ],
   "source": [
    "snaq1_dir = \"/mnt/dv/wid/projects4/SolisLemus-snaq2/empirical-cui/snaq1-outputs/\"\n",
    "\n",
    "for nhyb in 0:5\n",
    "    best_net = \"\"\n",
    "    best_negloglik = Inf\n",
    "    max_runtime = 0.\n",
    "\n",
    "    for j = 1:10\n",
    "        file_prefix = joinpath(snaq1_dir, \"net$(nhyb)_$(j)\")\n",
    "        if !isfile(\"$(file_prefix).log\") continue end\n",
    "        \n",
    "        net_data = readlines(\"$(file_prefix).log\")\n",
    "        net = split(net_data[length(net_data)-1], \"MaxNet is \")[2]\n",
    "\n",
    "        negloglik = split(net_data[length(net_data)], \"with -loglik \")[2]\n",
    "        negloglik = parse(Float64, negloglik)\n",
    "\n",
    "        runtime = readlines(\"$(file_prefix).out\")[3]\n",
    "        runtime = split(runtime, \"lapsed time: \")[2]\n",
    "        runtime = parse(Float64, split(runtime, \" seconds\")[1])\n",
    "\n",
    "        max_runtime = max(max_runtime, runtime)\n",
    "        if negloglik < best_negloglik\n",
    "            best_negloglik = negloglik\n",
    "            best_net = net\n",
    "        end\n",
    "    end\n",
    "\n",
    "    push!(df, [1, max_runtime, nhyb, best_net, best_negloglik])\n",
    "end\n",
    "df"
   ]
  },
  {
   "cell_type": "code",
   "execution_count": 5,
   "metadata": {},
   "outputs": [
    {
     "data": {
      "text/plain": [
       "\"/mnt/ws/home/nkolbow/repos/snaq2/empirical-cui/output-data.csv\""
      ]
     },
     "metadata": {},
     "output_type": "display_data"
    }
   ],
   "source": [
    "CSV.write(\"/mnt/dv/wid/projects4/SolisLemus-snaq2/empirical-cui/output-data.csv\", df)"
   ]
  },
  {
   "cell_type": "code",
   "execution_count": 4,
   "metadata": {},
   "outputs": [
    {
     "data": {
      "text/html": [
       "<div><div style = \"float: left;\"><span>12×5 DataFrame</span></div><div style = \"clear: both;\"></div></div><div class = \"data-frame\" style = \"overflow-x: scroll;\"><table class = \"data-frame\" style = \"margin-bottom: 6px;\"><thead><tr class = \"header\"><th class = \"rowNumber\" style = \"font-weight: bold; text-align: right;\">Row</th><th style = \"text-align: left;\">whichSNaQ</th><th style = \"text-align: left;\">runtime</th><th style = \"text-align: left;\">nhybrids</th><th style = \"text-align: left;\">best_network</th><th style = \"text-align: left;\">negloglik</th></tr><tr class = \"subheader headerLastRow\"><th class = \"rowNumber\" style = \"font-weight: bold; text-align: right;\"></th><th title = \"Int64\" style = \"text-align: left;\">Int64</th><th title = \"Float64\" style = \"text-align: left;\">Float64</th><th title = \"Int64\" style = \"text-align: left;\">Int64</th><th title = \"String\" style = \"text-align: left;\">String</th><th title = \"Float64\" style = \"text-align: left;\">Float64</th></tr></thead><tbody><tr><td class = \"rowNumber\" style = \"font-weight: bold; text-align: right;\">1</td><td style = \"text-align: right;\">2</td><td style = \"text-align: right;\">28878.5</td><td style = \"text-align: right;\">0</td><td style = \"text-align: left;\">(Xbirchmanni_GARC,Xmalinche_CHIC2,(Xcortezi,(Xmontezumae,((((((Xalvarezi,Xmayae):0.33573261546776034,Xhellerii):0.2570428685455809,Xsignum):1.8684829981806892,(Xclemenciae_F2,Xmonticolus):1.4568562811775525):0.9894123051197872,((((((((Xgordoni,Xmeyeri):0.260941650500119,Xcouchianus):3.5263530419946125,Xvariatus):0.6441174121326382,Xevelynae):0.4623785424025624,Xmilleri):0.2206839165610763,Xxiphidium):0.34187169818975405,Xandersi):0.4130797975090862,Xmaculatus):0.562819643879695):2.2238926599946973,((Xcontinens,Xpygmaeus):1.968647426989417,(Xnigrensis,Xmultilineatus):1.4508222016470356):2.427787188281627):0.4925677072017978):0.690280843537655):0.8942572881883746); </td><td style = \"text-align: right;\">12306.3</td></tr><tr><td class = \"rowNumber\" style = \"font-weight: bold; text-align: right;\">2</td><td style = \"text-align: right;\">2</td><td style = \"text-align: right;\">59233.5</td><td style = \"text-align: right;\">1</td><td style = \"text-align: left;\">(Xalvarezi,Xmayae,(Xhellerii,(Xsignum,((Xclemenciae_F2,Xmonticolus):1.455322656168836,(((((((((Xgordoni,Xmeyeri):0.2610026897629548,Xcouchianus):3.531493889011526,Xvariatus):0.644534784375658,Xevelynae):0.41219787411358233,(Xxiphidium,#H24:0.0::0.16538233670655728):1.4020273950442304):0.29212528628225487,Xmilleri):0.4688643862801541,Xandersi):0.6492570259172087,Xmaculatus):1.0200602335138427,(((Xmontezumae,(Xcortezi,(Xbirchmanni_GARC,Xmalinche_CHIC2):0.8942911134439004):0.690375933272812):0.4926228956226752,((Xnigrensis,Xmultilineatus):1.4508225039152296,(Xpygmaeus,Xcontinens):1.9686774043375257):2.428060196425017):2.0434444934052576)#H24:0.6478008024324021::0.8346176632934428):0.7898257175666403):1.8657998487106953):0.25701125505807526):0.33572600309280426); </td><td style = \"text-align: right;\">8087.16</td></tr><tr><td class = \"rowNumber\" style = \"font-weight: bold; text-align: right;\">3</td><td style = \"text-align: right;\">2</td><td style = \"text-align: right;\">57009.0</td><td style = \"text-align: right;\">2</td><td style = \"text-align: left;\">(Xalvarezi,Xmayae,((Xsignum,((((((((((Xgordoni,Xmeyeri):0.25757271724098973,Xcouchianus):3.532988564977703,Xvariatus):0.6446874258517096,Xevelynae):0.41246317079421246,(Xxiphidium,#H24:5.033042683966118e-5::0.1653507310929094):1.398925043206115):0.2918978446396917,Xmilleri):0.46937386703955525,Xandersi):0.648566637613014,Xmaculatus):1.0205076379294598,(((Xmontezumae,(Xcortezi,(Xbirchmanni_GARC,Xmalinche_CHIC2):0.8933630420154336):0.6905025860207384):0.4927411378289649,((Xpygmaeus,Xcontinens):1.9664507275033072,(Xnigrensis,Xmultilineatus):1.4508567283913851):2.4270831402806183):2.043390027949852)#H24:0.6480499371048025::0.8346492689070906):0.7855919377529405,(#H25:::0.050786281612018494,(Xmonticolus,Xclemenciae_F2):1.0138684239242646):0.4487819754223839):2.0236780910471106):0.3500485536689108,(Xhellerii)#H25:::0.9492137183879815):0.25396465312557864); </td><td style = \"text-align: right;\">8010.05</td></tr><tr><td class = \"rowNumber\" style = \"font-weight: bold; text-align: right;\">4</td><td style = \"text-align: right;\">2</td><td style = \"text-align: right;\">11385.9</td><td style = \"text-align: right;\">3</td><td style = \"text-align: left;\">((Xmayae,(Xsignum,#H25:1.5110480531329233::0.4327950246782939):4.04058166057681):0.29097932418472794,(Xhellerii,((((((Xmilleri,((Xxiphidium,#H24:0.0025733981072351224::0.1653578762288908):1.4105052944020438,((((Xgordoni,Xmeyeri):0.2670867288636092,Xcouchianus):3.5136450622639113,Xvariatus):0.6447932507803675,Xevelynae):0.4127047464709273):0.29169621821694164):0.4689913906836836,Xandersi):0.6508723073329289,Xmaculatus):1.0204452453357777,((((Xmontezumae,(Xcortezi,((Xmalinche_CHIC2,Xbirchmanni_GARC):1.0856348061486425)#H26:0.0::0.8723944119423989):1.2642136964649866):0.6291264913973904,((Xnigrensis,Xmultilineatus):1.451720793459369,(Xpygmaeus,Xcontinens):1.9559255320014535):2.373363334840846):1.1256981032693505,#H26:8.409270739061494::0.1276055880576011):1.0752369723711777)#H24:0.6351120238201327::0.8346421237711092):0.7893778931636327,(Xclemenciae_F2,Xmonticolus):1.456643524686765):1.7670793573232058)#H25:1.0595886525893456::0.5672049753217061):0.6877953118502366,Xalvarezi); </td><td style = \"text-align: right;\">7045.49</td></tr><tr><td class = \"rowNumber\" style = \"font-weight: bold; text-align: right;\">5</td><td style = \"text-align: right;\">2</td><td style = \"text-align: right;\">15946.9</td><td style = \"text-align: right;\">4</td><td style = \"text-align: left;\">(Xmayae,(Xsignum,#H25:5.082734418311206::0.4297665177229852):5.389522596050399,(Xalvarezi,(Xhellerii,((((((((((Xcouchianus,(Xgordoni,Xmeyeri):0.26982703129359165):3.528156599650305,Xvariatus):0.6451972575923878,Xevelynae):0.4132554616556287,(Xxiphidium,#H24:5.053262181453364e-7::0.16724263361511957):1.3645966998080217):0.2928115249732738,Xmilleri):0.4695819018570044,Xandersi):0.652404878269161,Xmaculatus):1.0226807289762099,((((Xmontezumae,(Xcortezi,((Xmalinche_CHIC2,Xbirchmanni_GARC):1.0838178327980086)#H26:0.0::0.8693055723450269):1.2846241894511057):0.6309005880443043,(((Xcontinens,Xpygmaeus):1.912865527596485,(Xmultilineatus,(Xnigrensis)#H27:::0.9447822653040753):2.138908465488343):2.227566241667269,#H27:::0.05521773469592468):0.40528350596573853):1.0944028754090103,#H26:8.783891184553742::0.13069442765497302):1.2813319307841795)#H24:0.25525058507880977::0.8327573663848804):0.7886700270252991,(Xclemenciae_F2,Xmonticolus):1.4612756743529391):1.8576821615306418)#H25:0.29612853982581955::0.5702334822770148):0.6686833710721246):0.2691192410484597); </td><td style = \"text-align: right;\">6910.6</td></tr><tr><td class = \"rowNumber\" style = \"font-weight: bold; text-align: right;\">6</td><td style = \"text-align: right;\">2</td><td style = \"text-align: right;\">21882.7</td><td style = \"text-align: right;\">5</td><td style = \"text-align: left;\">(Xmayae,((Xhellerii,((((((((((((Xgordoni,Xmeyeri):0.2631227031446862,Xcouchianus):3.54021612159992,Xvariatus):0.6437316675570034,Xevelynae):0.4114043093284645,(Xxiphidium,#H24:7.809109621543954e-7::0.1649517615020249):1.4165913479654098):0.2921964918454891,Xmilleri):0.4691622169119663,Xandersi):0.6488320449041185,Xmaculatus):1.018515784980067,((((Xmontezumae,(Xcortezi,((Xmalinche_CHIC2,Xbirchmanni_GARC):1.0849726998175)#H26:0.0010908140230310095::0.8685945336508559):1.2792390904173159):0.6320193209227563,((Xnigrensis,(Xmultilineatus)#H27:::0.8933645769387583):2.1536576339054445,(#H27:::0.10663542306124178,(Xcontinens,Xpygmaeus):1.2578127470041887):0.7723312910403919):2.3389927104259014):1.074742972912891,#H26:8.295425154703283::0.1314054663491441):1.1091321001809857)#H24:0.6580752321658498::0.8350482384979752):0.7606154109054719,(Xmonticolus,(Xclemenciae_F2)#H28:::0.8872061505132185):2.178805456475259):0.6531834063316464,#H28:::0.11279384948678145):1.1802247941509667)#H25:0.6615510973730296::0.5706273914381044):0.6810352768760031,Xalvarezi):0.26007612581046646,(Xsignum,#H25:9.581758012036618::0.4293726085618957):5.979160617223211); </td><td style = \"text-align: right;\">6920.93</td></tr><tr><td class = \"rowNumber\" style = \"font-weight: bold; text-align: right;\">7</td><td style = \"text-align: right;\">1</td><td style = \"text-align: right;\">62189.9</td><td style = \"text-align: right;\">0</td><td style = \"text-align: left;\">(Xbirchmanni_GARC,Xmalinche_CHIC2,(Xcortezi,((((Xcontinens,Xpygmaeus):1.9686746399192034,(Xnigrensis,Xmultilineatus):1.4507946075895048):2.4277831703754047,(((((((((Xgordoni,Xmeyeri):0.26096116854800855,Xcouchianus):3.5262740112374034,Xvariatus):0.6441337797254055,Xevelynae):0.46238113045940904,Xmilleri):0.2206796711101763,Xxiphidium):0.34187335598897917,Xandersi):0.4130796436664383,Xmaculatus):0.5628172294686543,((((Xalvarezi,Xmayae):0.33575629100320215,Xhellerii):0.2570030405820556,Xsignum):1.8684905148667412,(Xclemenciae_F2,Xmonticolus):1.4568344768997241):0.989409830282603):2.223889084775516):0.4925710493816971,Xmontezumae):0.6902757536009876):0.8942518687351185); </td><td style = \"text-align: right;\">12306.3</td></tr><tr><td class = \"rowNumber\" style = \"font-weight: bold; text-align: right;\">8</td><td style = \"text-align: right;\">1</td><td style = \"text-align: right;\">105512.0</td><td style = \"text-align: right;\">1</td><td style = \"text-align: left;\">(Xalvarezi,Xmayae,(Xhellerii,(Xsignum,((Xclemenciae_F2,Xmonticolus):1.4552041214707416,(((((((((Xgordoni,Xmeyeri):0.2609873101734162,Xcouchianus):3.528063280805239,Xvariatus):0.6446279089286899,Xevelynae):0.462284368652192,Xmilleri):0.15800582733701732,(Xxiphidium,#H24:::0.17643906087780342):1.1198276366293516):0.49283646032809314,Xandersi):0.6432655641682358,Xmaculatus):1.025780855129809,(((Xmontezumae,(Xcortezi,(Xbirchmanni_GARC,Xmalinche_CHIC2):0.8943065261646596):0.6903951873120144):0.4926049347387669,((Xnigrensis,Xmultilineatus):1.4508249886879712,(Xpygmaeus,Xcontinens):1.9686623551644915):2.4280738607161476):1.684904995871621)#H24:::0.8235609391221965):0.7799246954466896):1.8655924988330903):0.2570158690012912):0.33572199673987246); </td><td style = \"text-align: right;\">8750.86</td></tr><tr><td class = \"rowNumber\" style = \"font-weight: bold; text-align: right;\">9</td><td style = \"text-align: right;\">1</td><td style = \"text-align: right;\">1.36171e5</td><td style = \"text-align: right;\">2</td><td style = \"text-align: left;\">(Xalvarezi,Xmayae,((Xsignum,((Xmonticolus,(Xclemenciae_F2,#H25:::0.032485577051040423):0.979116879342896):1.4858786525152954,(((((((((Xgordoni,Xmeyeri):0.26111415598145865,Xcouchianus):3.5325554148283564,Xvariatus):0.6445452395880061,Xevelynae):0.41219807813960146,(Xxiphidium,#H24:0.0::0.16538333427567822):1.4020042304402076):0.2921320715527958,Xmilleri):0.4688709909949548,Xandersi):0.6492623942884177,Xmaculatus):1.0200542801748702,(((Xmontezumae,(Xcortezi,(Xbirchmanni_GARC,Xmalinche_CHIC2):0.8943004029517725):0.6903622798656042):0.4926275928330048,((Xnigrensis,Xmultilineatus):1.4508210422790195,(Xpygmaeus,Xcontinens):1.9686498919562234):2.428065080719157):2.0435103751744865)#H24:0.6476450483433508::0.8346166657243218):0.7816554661308311):1.9841381634366537):0.31614675520900004,(Xhellerii)#H25:::0.9675144229489596):0.28226883225049243); </td><td style = \"text-align: right;\">8014.52</td></tr><tr><td class = \"rowNumber\" style = \"font-weight: bold; text-align: right;\">10</td><td style = \"text-align: right;\">1</td><td style = \"text-align: right;\">2.0969e5</td><td style = \"text-align: right;\">3</td><td style = \"text-align: left;\">(Xalvarezi,Xmayae,((Xsignum,(((((((((((Xgordoni,Xmeyeri):0.260934039544222,Xcouchianus):3.5312797360545534,Xvariatus):0.6443399024732661,Xevelynae):0.4123855942918298,(Xxiphidium,#H24:0.0018361266408130198::0.16539114989813283):1.4008222473756964):0.2917923569670647,Xmilleri):0.469349177188365,Xandersi):0.6487539881470423,Xmaculatus):1.0198477802411505,((((Xmontezumae,(Xcortezi,((Xmalinche_CHIC2,Xbirchmanni_GARC):1.083313518019925)#H26:0.0::0.8727956310421234):1.2638928371797538):0.6285091821002746,((Xnigrensis,Xmultilineatus):1.4513524061920164,(Xpygmaeus,Xcontinens):1.9718994304295323):2.3735668516591146):1.1260098714831577,#H26:8.623855915393824::0.12720436895787657):1.069385985597533)#H24:0.6477570616947983::0.8346088501018671):0.7903361834646656,(Xclemenciae_F2,Xmonticolus):1.4531323606875988):1.350827768154535,#H25:::0.3692984937136875):0.681502354092836):0.633639354032585,(Xhellerii)#H25:::0.6307015062863125):0.0); </td><td style = \"text-align: right;\">7268.36</td></tr><tr><td class = \"rowNumber\" style = \"font-weight: bold; text-align: right;\">11</td><td style = \"text-align: right;\">1</td><td style = \"text-align: right;\">7.51545e5</td><td style = \"text-align: right;\">4</td><td style = \"text-align: left;\">(Xmayae,((Xhellerii,(((((((((((Xgordoni,Xmeyeri):0.2503497914751533,Xcouchianus):3.5143166368487426,Xvariatus):0.6445944360537064,Xevelynae):0.4113658990914516,(Xxiphidium,#H24:5.262467132163245e-7::0.16816746656535694):1.3699787556284733):0.29194656618000037,Xmilleri):0.4679423183559616,Xandersi):0.6530709937282461,Xmaculatus):1.0254812089946383,((((Xmontezumae,(Xcortezi,((Xmalinche_CHIC2,Xbirchmanni_GARC):1.0805658683802386)#H26:0.0::0.8652558957282537):1.2852462212448634):0.6355801429124722,((Xcontinens,(Xpygmaeus,#H27:::0.04213539011675838):1.2279567731725056):2.0871431952461132,(Xnigrensis,(Xmultilineatus)#H27:::0.9578646098832416):1.7345346439397828):2.3420750778636994):1.0176187742045466,#H26:8.593130851108928::0.1347441042717463):1.4215052569879263)#H24:0.11134815801376252::0.831832533434643):0.7855905848434657,(Xclemenciae_F2,Xmonticolus):1.4539995041315041):1.688639355236414)#H25:1.7167114098272962::0.5598732308660994):0.7276810667457978,Xalvarezi):0.24908361375205645,(Xsignum,#H25:4.638013849279179::0.4401267691339006):3.2715480768342116); </td><td style = \"text-align: right;\">7053.33</td></tr><tr><td class = \"rowNumber\" style = \"font-weight: bold; text-align: right;\">12</td><td style = \"text-align: right;\">1</td><td style = \"text-align: right;\">1.75689e5</td><td style = \"text-align: right;\">5</td><td style = \"text-align: left;\">(Xmayae,((Xhellerii,((((((((((((Xgordoni,Xmeyeri):0.26288003539447563,Xcouchianus):3.5316206217653274,Xvariatus):0.6455291326119673,Xevelynae):0.4111685702431165,(Xxiphidium,#H24:5.24460669974415e-7::0.1668054423118095):1.3741742525902727):0.2929829215332769,Xmilleri):0.4699283116965078,Xandersi):0.6495881117323812,Xmaculatus):1.0219292263416704,((((Xmontezumae,(Xcortezi,((Xmalinche_CHIC2,Xbirchmanni_GARC):1.076581051819183)#H26:0.020332521129393374::0.869412679921953):1.2795080898457403):0.6342192691008461,((Xnigrensis,(Xmultilineatus)#H27:::0.9196276851750825):1.9267265788980392,(#H27:::0.0803723148249175,(Xcontinens,Xpygmaeus):1.1133638730620816):0.8879852120835154):2.343672147813728):1.103951991906288,#H26:7.246926015211305::0.13058732007804696):1.2481251155312258)#H24:0.3023656122436739::0.8331945576881905):0.757785564757215,(Xmonticolus,(Xclemenciae_F2)#H28:::0.9198459069223606):1.949276643450234):1.149729004325246,#H28:::0.08015409307763947):0.6473757665476981)#H25:1.0581245012020082::0.569624299891438):0.6822757414084448,Xalvarezi):0.28538412154183945,(Xsignum,#H25:9.772583434987848::0.4303757001085619):4.897252902886207); </td><td style = \"text-align: right;\">6942.71</td></tr></tbody></table></div>"
      ],
      "text/latex": [
       "\\begin{tabular}{r|ccccc}\n",
       "\t& whichSNaQ & runtime & nhybrids & best\\_network & \\\\\n",
       "\t\\hline\n",
       "\t& Int64 & Float64 & Int64 & String & \\\\\n",
       "\t\\hline\n",
       "\t1 & 2 & 28878.5 & 0 & (Xbirchmanni\\_GARC,Xmalinche\\_CHIC2,(Xcortezi,(Xmontezumae,((((((Xalvarezi,Xmayae):0.33573261546776034,Xhellerii):0.2570428685455809,Xsignum):1.8684829981806892,(Xclemenciae\\_F2,Xmonticolus):1.4568562811775525):0.9894123051197872,((((((((Xgordoni,Xmeyeri):0.260941650500119,Xcouchianus):3.5263530419946125,Xvariatus):0.6441174121326382,Xevelynae):0.4623785424025624,Xmilleri):0.2206839165610763,Xxiphidium):0.34187169818975405,Xandersi):0.4130797975090862,Xmaculatus):0.562819643879695):2.2238926599946973,((Xcontinens,Xpygmaeus):1.968647426989417,(Xnigrensis,Xmultilineatus):1.4508222016470356):2.427787188281627):0.4925677072017978):0.690280843537655):0.8942572881883746);  & $\\dots$ \\\\\n",
       "\t2 & 2 & 59233.5 & 1 & (Xalvarezi,Xmayae,(Xhellerii,(Xsignum,((Xclemenciae\\_F2,Xmonticolus):1.455322656168836,(((((((((Xgordoni,Xmeyeri):0.2610026897629548,Xcouchianus):3.531493889011526,Xvariatus):0.644534784375658,Xevelynae):0.41219787411358233,(Xxiphidium,\\#H24:0.0::0.16538233670655728):1.4020273950442304):0.29212528628225487,Xmilleri):0.4688643862801541,Xandersi):0.6492570259172087,Xmaculatus):1.0200602335138427,(((Xmontezumae,(Xcortezi,(Xbirchmanni\\_GARC,Xmalinche\\_CHIC2):0.8942911134439004):0.690375933272812):0.4926228956226752,((Xnigrensis,Xmultilineatus):1.4508225039152296,(Xpygmaeus,Xcontinens):1.9686774043375257):2.428060196425017):2.0434444934052576)\\#H24:0.6478008024324021::0.8346176632934428):0.7898257175666403):1.8657998487106953):0.25701125505807526):0.33572600309280426);  & $\\dots$ \\\\\n",
       "\t3 & 2 & 57009.0 & 2 & (Xalvarezi,Xmayae,((Xsignum,((((((((((Xgordoni,Xmeyeri):0.25757271724098973,Xcouchianus):3.532988564977703,Xvariatus):0.6446874258517096,Xevelynae):0.41246317079421246,(Xxiphidium,\\#H24:5.033042683966118e-5::0.1653507310929094):1.398925043206115):0.2918978446396917,Xmilleri):0.46937386703955525,Xandersi):0.648566637613014,Xmaculatus):1.0205076379294598,(((Xmontezumae,(Xcortezi,(Xbirchmanni\\_GARC,Xmalinche\\_CHIC2):0.8933630420154336):0.6905025860207384):0.4927411378289649,((Xpygmaeus,Xcontinens):1.9664507275033072,(Xnigrensis,Xmultilineatus):1.4508567283913851):2.4270831402806183):2.043390027949852)\\#H24:0.6480499371048025::0.8346492689070906):0.7855919377529405,(\\#H25:::0.050786281612018494,(Xmonticolus,Xclemenciae\\_F2):1.0138684239242646):0.4487819754223839):2.0236780910471106):0.3500485536689108,(Xhellerii)\\#H25:::0.9492137183879815):0.25396465312557864);  & $\\dots$ \\\\\n",
       "\t4 & 2 & 11385.9 & 3 & ((Xmayae,(Xsignum,\\#H25:1.5110480531329233::0.4327950246782939):4.04058166057681):0.29097932418472794,(Xhellerii,((((((Xmilleri,((Xxiphidium,\\#H24:0.0025733981072351224::0.1653578762288908):1.4105052944020438,((((Xgordoni,Xmeyeri):0.2670867288636092,Xcouchianus):3.5136450622639113,Xvariatus):0.6447932507803675,Xevelynae):0.4127047464709273):0.29169621821694164):0.4689913906836836,Xandersi):0.6508723073329289,Xmaculatus):1.0204452453357777,((((Xmontezumae,(Xcortezi,((Xmalinche\\_CHIC2,Xbirchmanni\\_GARC):1.0856348061486425)\\#H26:0.0::0.8723944119423989):1.2642136964649866):0.6291264913973904,((Xnigrensis,Xmultilineatus):1.451720793459369,(Xpygmaeus,Xcontinens):1.9559255320014535):2.373363334840846):1.1256981032693505,\\#H26:8.409270739061494::0.1276055880576011):1.0752369723711777)\\#H24:0.6351120238201327::0.8346421237711092):0.7893778931636327,(Xclemenciae\\_F2,Xmonticolus):1.456643524686765):1.7670793573232058)\\#H25:1.0595886525893456::0.5672049753217061):0.6877953118502366,Xalvarezi);  & $\\dots$ \\\\\n",
       "\t5 & 2 & 15946.9 & 4 & (Xmayae,(Xsignum,\\#H25:5.082734418311206::0.4297665177229852):5.389522596050399,(Xalvarezi,(Xhellerii,((((((((((Xcouchianus,(Xgordoni,Xmeyeri):0.26982703129359165):3.528156599650305,Xvariatus):0.6451972575923878,Xevelynae):0.4132554616556287,(Xxiphidium,\\#H24:5.053262181453364e-7::0.16724263361511957):1.3645966998080217):0.2928115249732738,Xmilleri):0.4695819018570044,Xandersi):0.652404878269161,Xmaculatus):1.0226807289762099,((((Xmontezumae,(Xcortezi,((Xmalinche\\_CHIC2,Xbirchmanni\\_GARC):1.0838178327980086)\\#H26:0.0::0.8693055723450269):1.2846241894511057):0.6309005880443043,(((Xcontinens,Xpygmaeus):1.912865527596485,(Xmultilineatus,(Xnigrensis)\\#H27:::0.9447822653040753):2.138908465488343):2.227566241667269,\\#H27:::0.05521773469592468):0.40528350596573853):1.0944028754090103,\\#H26:8.783891184553742::0.13069442765497302):1.2813319307841795)\\#H24:0.25525058507880977::0.8327573663848804):0.7886700270252991,(Xclemenciae\\_F2,Xmonticolus):1.4612756743529391):1.8576821615306418)\\#H25:0.29612853982581955::0.5702334822770148):0.6686833710721246):0.2691192410484597);  & $\\dots$ \\\\\n",
       "\t6 & 2 & 21882.7 & 5 & (Xmayae,((Xhellerii,((((((((((((Xgordoni,Xmeyeri):0.2631227031446862,Xcouchianus):3.54021612159992,Xvariatus):0.6437316675570034,Xevelynae):0.4114043093284645,(Xxiphidium,\\#H24:7.809109621543954e-7::0.1649517615020249):1.4165913479654098):0.2921964918454891,Xmilleri):0.4691622169119663,Xandersi):0.6488320449041185,Xmaculatus):1.018515784980067,((((Xmontezumae,(Xcortezi,((Xmalinche\\_CHIC2,Xbirchmanni\\_GARC):1.0849726998175)\\#H26:0.0010908140230310095::0.8685945336508559):1.2792390904173159):0.6320193209227563,((Xnigrensis,(Xmultilineatus)\\#H27:::0.8933645769387583):2.1536576339054445,(\\#H27:::0.10663542306124178,(Xcontinens,Xpygmaeus):1.2578127470041887):0.7723312910403919):2.3389927104259014):1.074742972912891,\\#H26:8.295425154703283::0.1314054663491441):1.1091321001809857)\\#H24:0.6580752321658498::0.8350482384979752):0.7606154109054719,(Xmonticolus,(Xclemenciae\\_F2)\\#H28:::0.8872061505132185):2.178805456475259):0.6531834063316464,\\#H28:::0.11279384948678145):1.1802247941509667)\\#H25:0.6615510973730296::0.5706273914381044):0.6810352768760031,Xalvarezi):0.26007612581046646,(Xsignum,\\#H25:9.581758012036618::0.4293726085618957):5.979160617223211);  & $\\dots$ \\\\\n",
       "\t7 & 1 & 62189.9 & 0 & (Xbirchmanni\\_GARC,Xmalinche\\_CHIC2,(Xcortezi,((((Xcontinens,Xpygmaeus):1.9686746399192034,(Xnigrensis,Xmultilineatus):1.4507946075895048):2.4277831703754047,(((((((((Xgordoni,Xmeyeri):0.26096116854800855,Xcouchianus):3.5262740112374034,Xvariatus):0.6441337797254055,Xevelynae):0.46238113045940904,Xmilleri):0.2206796711101763,Xxiphidium):0.34187335598897917,Xandersi):0.4130796436664383,Xmaculatus):0.5628172294686543,((((Xalvarezi,Xmayae):0.33575629100320215,Xhellerii):0.2570030405820556,Xsignum):1.8684905148667412,(Xclemenciae\\_F2,Xmonticolus):1.4568344768997241):0.989409830282603):2.223889084775516):0.4925710493816971,Xmontezumae):0.6902757536009876):0.8942518687351185);  & $\\dots$ \\\\\n",
       "\t8 & 1 & 105512.0 & 1 & (Xalvarezi,Xmayae,(Xhellerii,(Xsignum,((Xclemenciae\\_F2,Xmonticolus):1.4552041214707416,(((((((((Xgordoni,Xmeyeri):0.2609873101734162,Xcouchianus):3.528063280805239,Xvariatus):0.6446279089286899,Xevelynae):0.462284368652192,Xmilleri):0.15800582733701732,(Xxiphidium,\\#H24:::0.17643906087780342):1.1198276366293516):0.49283646032809314,Xandersi):0.6432655641682358,Xmaculatus):1.025780855129809,(((Xmontezumae,(Xcortezi,(Xbirchmanni\\_GARC,Xmalinche\\_CHIC2):0.8943065261646596):0.6903951873120144):0.4926049347387669,((Xnigrensis,Xmultilineatus):1.4508249886879712,(Xpygmaeus,Xcontinens):1.9686623551644915):2.4280738607161476):1.684904995871621)\\#H24:::0.8235609391221965):0.7799246954466896):1.8655924988330903):0.2570158690012912):0.33572199673987246);  & $\\dots$ \\\\\n",
       "\t9 & 1 & 1.36171e5 & 2 & (Xalvarezi,Xmayae,((Xsignum,((Xmonticolus,(Xclemenciae\\_F2,\\#H25:::0.032485577051040423):0.979116879342896):1.4858786525152954,(((((((((Xgordoni,Xmeyeri):0.26111415598145865,Xcouchianus):3.5325554148283564,Xvariatus):0.6445452395880061,Xevelynae):0.41219807813960146,(Xxiphidium,\\#H24:0.0::0.16538333427567822):1.4020042304402076):0.2921320715527958,Xmilleri):0.4688709909949548,Xandersi):0.6492623942884177,Xmaculatus):1.0200542801748702,(((Xmontezumae,(Xcortezi,(Xbirchmanni\\_GARC,Xmalinche\\_CHIC2):0.8943004029517725):0.6903622798656042):0.4926275928330048,((Xnigrensis,Xmultilineatus):1.4508210422790195,(Xpygmaeus,Xcontinens):1.9686498919562234):2.428065080719157):2.0435103751744865)\\#H24:0.6476450483433508::0.8346166657243218):0.7816554661308311):1.9841381634366537):0.31614675520900004,(Xhellerii)\\#H25:::0.9675144229489596):0.28226883225049243);  & $\\dots$ \\\\\n",
       "\t10 & 1 & 2.0969e5 & 3 & (Xalvarezi,Xmayae,((Xsignum,(((((((((((Xgordoni,Xmeyeri):0.260934039544222,Xcouchianus):3.5312797360545534,Xvariatus):0.6443399024732661,Xevelynae):0.4123855942918298,(Xxiphidium,\\#H24:0.0018361266408130198::0.16539114989813283):1.4008222473756964):0.2917923569670647,Xmilleri):0.469349177188365,Xandersi):0.6487539881470423,Xmaculatus):1.0198477802411505,((((Xmontezumae,(Xcortezi,((Xmalinche\\_CHIC2,Xbirchmanni\\_GARC):1.083313518019925)\\#H26:0.0::0.8727956310421234):1.2638928371797538):0.6285091821002746,((Xnigrensis,Xmultilineatus):1.4513524061920164,(Xpygmaeus,Xcontinens):1.9718994304295323):2.3735668516591146):1.1260098714831577,\\#H26:8.623855915393824::0.12720436895787657):1.069385985597533)\\#H24:0.6477570616947983::0.8346088501018671):0.7903361834646656,(Xclemenciae\\_F2,Xmonticolus):1.4531323606875988):1.350827768154535,\\#H25:::0.3692984937136875):0.681502354092836):0.633639354032585,(Xhellerii)\\#H25:::0.6307015062863125):0.0);  & $\\dots$ \\\\\n",
       "\t11 & 1 & 7.51545e5 & 4 & (Xmayae,((Xhellerii,(((((((((((Xgordoni,Xmeyeri):0.2503497914751533,Xcouchianus):3.5143166368487426,Xvariatus):0.6445944360537064,Xevelynae):0.4113658990914516,(Xxiphidium,\\#H24:5.262467132163245e-7::0.16816746656535694):1.3699787556284733):0.29194656618000037,Xmilleri):0.4679423183559616,Xandersi):0.6530709937282461,Xmaculatus):1.0254812089946383,((((Xmontezumae,(Xcortezi,((Xmalinche\\_CHIC2,Xbirchmanni\\_GARC):1.0805658683802386)\\#H26:0.0::0.8652558957282537):1.2852462212448634):0.6355801429124722,((Xcontinens,(Xpygmaeus,\\#H27:::0.04213539011675838):1.2279567731725056):2.0871431952461132,(Xnigrensis,(Xmultilineatus)\\#H27:::0.9578646098832416):1.7345346439397828):2.3420750778636994):1.0176187742045466,\\#H26:8.593130851108928::0.1347441042717463):1.4215052569879263)\\#H24:0.11134815801376252::0.831832533434643):0.7855905848434657,(Xclemenciae\\_F2,Xmonticolus):1.4539995041315041):1.688639355236414)\\#H25:1.7167114098272962::0.5598732308660994):0.7276810667457978,Xalvarezi):0.24908361375205645,(Xsignum,\\#H25:4.638013849279179::0.4401267691339006):3.2715480768342116);  & $\\dots$ \\\\\n",
       "\t12 & 1 & 1.75689e5 & 5 & (Xmayae,((Xhellerii,((((((((((((Xgordoni,Xmeyeri):0.26288003539447563,Xcouchianus):3.5316206217653274,Xvariatus):0.6455291326119673,Xevelynae):0.4111685702431165,(Xxiphidium,\\#H24:5.24460669974415e-7::0.1668054423118095):1.3741742525902727):0.2929829215332769,Xmilleri):0.4699283116965078,Xandersi):0.6495881117323812,Xmaculatus):1.0219292263416704,((((Xmontezumae,(Xcortezi,((Xmalinche\\_CHIC2,Xbirchmanni\\_GARC):1.076581051819183)\\#H26:0.020332521129393374::0.869412679921953):1.2795080898457403):0.6342192691008461,((Xnigrensis,(Xmultilineatus)\\#H27:::0.9196276851750825):1.9267265788980392,(\\#H27:::0.0803723148249175,(Xcontinens,Xpygmaeus):1.1133638730620816):0.8879852120835154):2.343672147813728):1.103951991906288,\\#H26:7.246926015211305::0.13058732007804696):1.2481251155312258)\\#H24:0.3023656122436739::0.8331945576881905):0.757785564757215,(Xmonticolus,(Xclemenciae\\_F2)\\#H28:::0.9198459069223606):1.949276643450234):1.149729004325246,\\#H28:::0.08015409307763947):0.6473757665476981)\\#H25:1.0581245012020082::0.569624299891438):0.6822757414084448,Xalvarezi):0.28538412154183945,(Xsignum,\\#H25:9.772583434987848::0.4303757001085619):4.897252902886207);  & $\\dots$ \\\\\n",
       "\\end{tabular}\n"
      ],
      "text/plain": [
       "\u001b[1m12×5 DataFrame\n",
       "\u001b[1m Row │\u001b[1m whichSNaQ \u001b[1m runtime        \u001b[1m nhybrids \u001b[1m best_network                      \u001b[1m ⋯\n",
       "     │\u001b[90m Int64     \u001b[90m Float64        \u001b[90m Int64    \u001b[90m String                            \u001b[90m ⋯\n",
       "─────┼──────────────────────────────────────────────────────────────────────────\n",
       "   1 │         2   28878.5               0  (Xbirchmanni_GARC,Xmalinche_CHIC…  ⋯\n",
       "   2 │         2   59233.5               1  (Xalvarezi,Xmayae,(Xhellerii,(Xs…\n",
       "   3 │         2   57009.0               2  (Xalvarezi,Xmayae,((Xsignum,((((…\n",
       "   4 │         2   11385.9               3  ((Xmayae,(Xsignum,#H25:1.5110480…\n",
       "   5 │         2   15946.9               4  (Xmayae,(Xsignum,#H25:5.08273441…  ⋯\n",
       "   6 │         2   21882.7               5  (Xmayae,((Xhellerii,((((((((((((…\n",
       "   7 │         1   62189.9               0  (Xbirchmanni_GARC,Xmalinche_CHIC…\n",
       "   8 │         1  105512.0               1  (Xalvarezi,Xmayae,(Xhellerii,(Xs…\n",
       "   9 │         1       1.36171e5         2  (Xalvarezi,Xmayae,((Xsignum,((Xm…  ⋯\n",
       "  10 │         1       2.0969e5          3  (Xalvarezi,Xmayae,((Xsignum,((((…\n",
       "  11 │         1       7.51545e5         4  (Xmayae,((Xhellerii,(((((((((((X…\n",
       "  12 │         1       1.75689e5         5  (Xmayae,((Xhellerii,((((((((((((…\n",
       "\u001b[36m                                                                1 column omitted"
      ]
     },
     "metadata": {},
     "output_type": "display_data"
    }
   ],
   "source": [
    "df = CSV.read(\"/mnt/dv/wid/projects4/SolisLemus-snaq2/empirical-cui/output-data.csv\", DataFrame)"
   ]
  },
  {
   "cell_type": "code",
   "execution_count": 5,
   "metadata": {},
   "outputs": [],
   "source": [
    "df[:, \"log_runtime\"] = log2.(df[:, \"runtime\"])\n",
    "using Plots\n",
    "\n",
    "p = scatter(df[:, \"nhybrids\"], df[:, \"negloglik\"], color = df[:, \"whichSNaQ\"], group = df[:, \"whichSNaQ\"],\n",
    "    xlabel = \"nhybrids\", ylabel = \"-loglik\")\n",
    "display(p)\n",
    "\n",
    "p = scatter(df[:, \"nhybrids\"], df[:, \"log_runtime\"], color = df[:, \"whichSNaQ\"], group = df[:, \"whichSNaQ\"],\n",
    "xlabel = \"nhybrids\", ylabel = \"log2(runtime)\")"
   ]
  },
  {
   "cell_type": "code",
   "execution_count": null,
   "metadata": {},
   "outputs": [],
   "source": [
    "println(maximum(df[7:12,\"runtime\"] .- df[1:6,\"runtime\"]))\n",
    "findfirst((df[7:12,\"runtime\"] .- df[1:6,\"runtime\"]) .== maximum(df[7:12,\"runtime\"] .- df[1:6,\"runtime\"]))"
   ]
  },
  {
   "cell_type": "code",
   "execution_count": 18,
   "metadata": {},
   "outputs": [
    {
     "name": "stdout",
     "output_type": "stream",
     "text": [
      "400.22\n",
      "53.98\n",
      "1.24646059e6 seconds\n",
      "20774.34 minutes\n",
      "346.24 hours\n",
      "14.43 days\n"
     ]
    }
   ],
   "source": [
    "println(round(sum(df[7:12, \"runtime\"])/60/60, digits=2))\n",
    "println(round(sum(df[1:6, \"runtime\"])/60/60, digits=2))\n",
    "d = sum(df[7:12, \"runtime\"]) - sum(df[1:6, \"runtime\"])\n",
    "\n",
    "println(\"$(round(d, digits = 2)) seconds\")\n",
    "println(\"$(round(d/60, digits = 2)) minutes\")\n",
    "println(\"$(round(d/60/60, digits = 2)) hours\")\n",
    "println(\"$(round(d/60/60/24, digits = 2)) days\")"
   ]
  },
  {
   "cell_type": "code",
   "execution_count": 12,
   "metadata": {},
   "outputs": [
    {
     "name": "stdout",
     "output_type": "stream",
     "text": [
      "735598.44 seconds\n",
      "12259.97 minutes\n",
      "204.33 hours\n",
      "8.51 days\n"
     ]
    }
   ],
   "source": [
    "d = maximum(df[7:12, \"runtime\"] .- df[1:6, \"runtime\"])\n",
    "\n",
    "println(\"$(round(d, digits = 2)) seconds\")\n",
    "println(\"$(round(d/60, digits = 2)) minutes\")\n",
    "println(\"$(round(d/60/60, digits = 2)) hours\")\n",
    "println(\"$(round(d/60/60/24, digits = 2)) days\")"
   ]
  },
  {
   "cell_type": "code",
   "execution_count": 21,
   "metadata": {},
   "outputs": [
    {
     "name": "stdout",
     "output_type": "stream",
     "text": [
      "h = 0:\n",
      "\t9.25 hours (0.39 days)\n",
      "\t115.35%\n",
      "\t0.0%\n",
      "h = 1:\n",
      "\t12.86 hours (0.54 days)\n",
      "\t78.13%\n",
      "\t7.58%\n",
      "h = 2:\n",
      "\t21.99 hours (0.92 days)\n",
      "\t138.86%\n",
      "\t0.06%\n",
      "h = 3:\n",
      "\t55.08 hours (2.3 days)\n",
      "\t1741.66%\n",
      "\t3.07%\n",
      "h = 4:\n",
      "\t204.33 hours (8.51 days)\n",
      "\t4612.8%\n",
      "\t2.02%\n",
      "h = 5:\n",
      "\t42.72 hours (1.78 days)\n",
      "\t702.87%\n",
      "\t0.31%\n"
     ]
    }
   ],
   "source": [
    "for j = 1:6\n",
    "    println(\"h = $(j-1):\")\n",
    "    runtime_diff = df[6+j, \"runtime\"] - df[j, \"runtime\"]\n",
    "    runtime_pct = (df[6+j, \"runtime\"] - df[j, \"runtime\"]) / df[j, \"runtime\"]\n",
    "    nll_pct = (df[6+j, \"negloglik\"] - df[j, \"negloglik\"]) / df[6+j, \"negloglik\"]\n",
    "\n",
    "    println(\"\\t$(round(runtime_diff/60/60, digits=2)) hours ($(round(runtime_diff/60/60/24, digits=2)) days)\")\n",
    "    println(\"\\t$(round(runtime_pct * 100, digits = 2))%\")\n",
    "    println(\"\\t$(round(100*nll_pct, digits=2))%\")\n",
    "end"
   ]
  },
  {
   "cell_type": "code",
   "execution_count": 16,
   "metadata": {},
   "outputs": [
    {
     "name": "stdout",
     "output_type": "stream",
     "text": [
      "h=0: 0\n",
      "h=1: 2\n",
      "h=2: 2\n",
      "h=3: 6\n",
      "h=4: 6\n",
      "h=5: 0\n"
     ]
    }
   ],
   "source": [
    "using PhyloNetworks\n",
    "\n",
    "for j = 1:6\n",
    "    hwcd = hardwiredClusterDistance(\n",
    "        readTopology(df[j+6, \"best_network\"]),\n",
    "        readTopology(df[j, \"best_network\"]),\n",
    "        false\n",
    "    )\n",
    "    println(\"h=$(j-1): $hwcd\")\n",
    "end"
   ]
  }
 ],
 "metadata": {
  "kernelspec": {
   "display_name": "Julia 1.9.3",
   "language": "julia",
   "name": "julia-1.9"
  },
  "language_info": {
   "file_extension": ".jl",
   "mimetype": "application/julia",
   "name": "julia",
   "version": "1.9.3"
  }
 },
 "nbformat": 4,
 "nbformat_minor": 2
}
